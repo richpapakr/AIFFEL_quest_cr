{
  "metadata": {
    "kernelspec": {
      "language": "python",
      "display_name": "Python 3",
      "name": "python3"
    },
    "language_info": {
      "pygments_lexer": "ipython3",
      "nbconvert_exporter": "python",
      "version": "3.6.4",
      "file_extension": ".py",
      "codemirror_mode": {
        "name": "ipython",
        "version": 3
      },
      "name": "python",
      "mimetype": "text/x-python"
    },
    "colab": {
      "provenance": [],
      "toc_visible": true,
      "include_colab_link": true
    }
  },
  "nbformat_minor": 0,
  "nbformat": 4,
  "cells": [
    {
      "cell_type": "markdown",
      "metadata": {
        "id": "view-in-github",
        "colab_type": "text"
      },
      "source": [
        "<a href=\"https://colab.research.google.com/github/richpapakr/AIFFEL_quest_cr/blob/master/MainQuest/Quest02/MainQuest02.ipynb\" target=\"_parent\"><img src=\"https://colab.research.google.com/assets/colab-badge.svg\" alt=\"Open In Colab\"/></a>"
      ]
    },
    {
      "cell_type": "code",
      "source": [
        "import numpy as np\n",
        "import pandas as pd\n",
        "import seaborn as sns\n",
        "import matplotlib.pyplot as plt\n",
        "%matplotlib inline\n",
        "%config InlineBackend.figure_format = 'retina'"
      ],
      "metadata": {
        "execution": {
          "iopub.status.busy": "2022-08-16T17:55:59.664845Z",
          "iopub.execute_input": "2022-08-16T17:55:59.66535Z",
          "iopub.status.idle": "2022-08-16T17:56:00.818018Z",
          "shell.execute_reply.started": "2022-08-16T17:55:59.665245Z",
          "shell.execute_reply": "2022-08-16T17:56:00.816707Z"
        },
        "trusted": true,
        "id": "qqiX53pnaeQP"
      },
      "execution_count": null,
      "outputs": []
    },
    {
      "cell_type": "code",
      "source": [
        "import pandas as pd\n",
        "original_data = pd.read_csv('../input/pokemon/Pokemon.csv')"
      ],
      "metadata": {
        "execution": {
          "iopub.status.busy": "2022-08-16T17:56:00.820209Z",
          "iopub.execute_input": "2022-08-16T17:56:00.82063Z",
          "iopub.status.idle": "2022-08-16T17:56:00.845317Z",
          "shell.execute_reply.started": "2022-08-16T17:56:00.820597Z",
          "shell.execute_reply": "2022-08-16T17:56:00.844321Z"
        },
        "trusted": true,
        "id": "sKZgmD50aeQP"
      },
      "execution_count": null,
      "outputs": []
    },
    {
      "cell_type": "markdown",
      "source": [
        "원본 데이터를 카피하는 이유: 앞으로 데이터를 다루면서 데이터셋에 다양한 작업을 할 것이기 때문에 원본 데이터는 훼손하지 않고 잘 보관하려는 것이다. 꼭 필요한 과정은 아니지만, 이렇게 원본 데이터를 메모리 상에 따로 두는 습관은 다양한 데이터 작업을 할 때 때때로 도움이 됩니다."
      ],
      "metadata": {
        "id": "4WEGTXLgaeQP"
      }
    },
    {
      "cell_type": "code",
      "source": [
        "pokemon = original_data.copy()\n",
        "print(pokemon.shape)\n",
        "pokemon.head()"
      ],
      "metadata": {
        "execution": {
          "iopub.status.busy": "2022-08-16T17:56:00.846887Z",
          "iopub.execute_input": "2022-08-16T17:56:00.847272Z",
          "iopub.status.idle": "2022-08-16T17:56:00.876487Z",
          "shell.execute_reply.started": "2022-08-16T17:56:00.847211Z",
          "shell.execute_reply": "2022-08-16T17:56:00.875457Z"
        },
        "trusted": true,
        "id": "PtKIEoUGaeQQ"
      },
      "execution_count": null,
      "outputs": []
    },
    {
      "cell_type": "code",
      "source": [
        "legendary = pokemon[pokemon[\"Legendary\"] == True].reset_index(drop=True)\n",
        "print(legendary.shape)\n",
        "legendary.head()"
      ],
      "metadata": {
        "execution": {
          "iopub.status.busy": "2022-08-16T17:56:00.878674Z",
          "iopub.execute_input": "2022-08-16T17:56:00.879249Z",
          "iopub.status.idle": "2022-08-16T17:56:00.904575Z",
          "shell.execute_reply.started": "2022-08-16T17:56:00.879195Z",
          "shell.execute_reply": "2022-08-16T17:56:00.903679Z"
        },
        "trusted": true,
        "id": "KfpQ9QvSaeQQ"
      },
      "execution_count": null,
      "outputs": []
    },
    {
      "cell_type": "code",
      "source": [
        "# 일반 포켓몬 데이터셋\n",
        "ordinary = pokemon[pokemon[\"Legendary\"] == False].reset_index(drop=True)\n",
        "print(ordinary.shape)\n",
        "ordinary.head()"
      ],
      "metadata": {
        "execution": {
          "iopub.status.busy": "2022-08-16T17:56:00.905646Z",
          "iopub.execute_input": "2022-08-16T17:56:00.906723Z",
          "iopub.status.idle": "2022-08-16T17:56:00.929251Z",
          "shell.execute_reply.started": "2022-08-16T17:56:00.906689Z",
          "shell.execute_reply": "2022-08-16T17:56:00.927971Z"
        },
        "trusted": true,
        "id": "GlfTIOKPaeQQ"
      },
      "execution_count": null,
      "outputs": []
    },
    {
      "cell_type": "markdown",
      "source": [
        "## EDA"
      ],
      "metadata": {
        "id": "fGYko9sUaeQR"
      }
    },
    {
      "cell_type": "code",
      "source": [
        "print(len(pokemon.columns))\n",
        "pokemon.columns"
      ],
      "metadata": {
        "execution": {
          "iopub.status.busy": "2022-08-16T17:56:00.930808Z",
          "iopub.execute_input": "2022-08-16T17:56:00.931923Z",
          "iopub.status.idle": "2022-08-16T17:56:00.942212Z",
          "shell.execute_reply.started": "2022-08-16T17:56:00.931875Z",
          "shell.execute_reply": "2022-08-16T17:56:00.940787Z"
        },
        "trusted": true,
        "id": "RhYMjeoUaeQS"
      },
      "execution_count": null,
      "outputs": []
    },
    {
      "cell_type": "code",
      "source": [
        "pokemon.isnull().sum()"
      ],
      "metadata": {
        "execution": {
          "iopub.status.busy": "2022-08-16T17:56:00.944182Z",
          "iopub.execute_input": "2022-08-16T17:56:00.944995Z",
          "iopub.status.idle": "2022-08-16T17:56:00.957867Z",
          "shell.execute_reply.started": "2022-08-16T17:56:00.9449Z",
          "shell.execute_reply": "2022-08-16T17:56:00.956499Z"
        },
        "trusted": true,
        "id": "C30o22pTaeQT"
      },
      "execution_count": null,
      "outputs": []
    },
    {
      "cell_type": "code",
      "source": [
        "len(set(pokemon[\"#\"]))"
      ],
      "metadata": {
        "execution": {
          "iopub.status.busy": "2022-08-16T17:56:00.959632Z",
          "iopub.execute_input": "2022-08-16T17:56:00.960475Z",
          "iopub.status.idle": "2022-08-16T17:56:00.969011Z",
          "shell.execute_reply.started": "2022-08-16T17:56:00.960427Z",
          "shell.execute_reply": "2022-08-16T17:56:00.967691Z"
        },
        "trusted": true,
        "id": "2QsLmU36aeQT"
      },
      "execution_count": null,
      "outputs": []
    },
    {
      "cell_type": "code",
      "source": [
        "pokemon[pokemon[\"#\"] == 6]"
      ],
      "metadata": {
        "execution": {
          "iopub.status.busy": "2022-08-16T17:56:00.971024Z",
          "iopub.execute_input": "2022-08-16T17:56:00.971464Z",
          "iopub.status.idle": "2022-08-16T17:56:00.994049Z",
          "shell.execute_reply.started": "2022-08-16T17:56:00.971417Z",
          "shell.execute_reply": "2022-08-16T17:56:00.992615Z"
        },
        "trusted": true,
        "id": "9IYpQ4hXaeQT"
      },
      "execution_count": null,
      "outputs": []
    },
    {
      "cell_type": "code",
      "source": [
        "len(set(pokemon[\"Name\"]))\n",
        "# row 개수와 동일, unique한 값이므로 key column!"
      ],
      "metadata": {
        "execution": {
          "iopub.status.busy": "2022-08-16T17:56:00.99986Z",
          "iopub.execute_input": "2022-08-16T17:56:01.000627Z",
          "iopub.status.idle": "2022-08-16T17:56:01.009698Z",
          "shell.execute_reply.started": "2022-08-16T17:56:01.000583Z",
          "shell.execute_reply": "2022-08-16T17:56:01.008091Z"
        },
        "trusted": true,
        "id": "bqOsIfcQaeQT"
      },
      "execution_count": null,
      "outputs": []
    },
    {
      "cell_type": "code",
      "source": [
        "pokemon.loc[[6, 10]]"
      ],
      "metadata": {
        "execution": {
          "iopub.status.busy": "2022-08-16T17:56:01.011821Z",
          "iopub.execute_input": "2022-08-16T17:56:01.01272Z",
          "iopub.status.idle": "2022-08-16T17:56:01.033642Z",
          "shell.execute_reply.started": "2022-08-16T17:56:01.012668Z",
          "shell.execute_reply": "2022-08-16T17:56:01.032321Z"
        },
        "trusted": true,
        "id": "dQVD_kH6aeQU"
      },
      "execution_count": null,
      "outputs": []
    },
    {
      "cell_type": "code",
      "source": [
        "len(list(set(pokemon[\"Type 1\"]))), len(list(set(pokemon[\"Type 2\"])))"
      ],
      "metadata": {
        "execution": {
          "iopub.status.busy": "2022-08-16T17:56:01.035317Z",
          "iopub.execute_input": "2022-08-16T17:56:01.03581Z",
          "iopub.status.idle": "2022-08-16T17:56:01.046434Z",
          "shell.execute_reply.started": "2022-08-16T17:56:01.035748Z",
          "shell.execute_reply": "2022-08-16T17:56:01.044905Z"
        },
        "trusted": true,
        "id": "cjoglnJbaeQU"
      },
      "execution_count": null,
      "outputs": []
    },
    {
      "cell_type": "markdown",
      "source": [
        "Type1과 Type2의 속성 개수에 차이가 나는 이유 확인\n",
        "\n",
        "파이썬 차집합 함수: https://www.w3schools.com/python/ref_set_difference.asp"
      ],
      "metadata": {
        "id": "BgjO4m32aeQU"
      }
    },
    {
      "cell_type": "code",
      "source": [
        "\n",
        "set(pokemon[\"Type 2\"]) - set(pokemon[\"Type 1\"])"
      ],
      "metadata": {
        "execution": {
          "iopub.status.busy": "2022-08-16T17:56:01.047979Z",
          "iopub.execute_input": "2022-08-16T17:56:01.049342Z",
          "iopub.status.idle": "2022-08-16T17:56:01.056973Z",
          "shell.execute_reply.started": "2022-08-16T17:56:01.049305Z",
          "shell.execute_reply": "2022-08-16T17:56:01.055756Z"
        },
        "trusted": true,
        "id": "JN93tMvWaeQU"
      },
      "execution_count": null,
      "outputs": []
    },
    {
      "cell_type": "code",
      "source": [
        "types = list(set(pokemon[\"Type 1\"]))\n",
        "print(len(types))\n",
        "print(types)"
      ],
      "metadata": {
        "execution": {
          "iopub.status.busy": "2022-08-16T17:56:01.058669Z",
          "iopub.execute_input": "2022-08-16T17:56:01.059793Z",
          "iopub.status.idle": "2022-08-16T17:56:01.069395Z",
          "shell.execute_reply.started": "2022-08-16T17:56:01.059746Z",
          "shell.execute_reply": "2022-08-16T17:56:01.068098Z"
        },
        "trusted": true,
        "id": "um-QbJSRaeQU"
      },
      "execution_count": null,
      "outputs": []
    },
    {
      "cell_type": "code",
      "source": [
        "pokemon[\"Type 2\"].isna().sum()\n",
        "# 타입을 하나만 가지고 있는 포켓몬 수"
      ],
      "metadata": {
        "execution": {
          "iopub.status.busy": "2022-08-16T17:56:01.072489Z",
          "iopub.execute_input": "2022-08-16T17:56:01.074554Z",
          "iopub.status.idle": "2022-08-16T17:56:01.083788Z",
          "shell.execute_reply.started": "2022-08-16T17:56:01.074507Z",
          "shell.execute_reply": "2022-08-16T17:56:01.082357Z"
        },
        "trusted": true,
        "id": "qFL4yLDhaeQU"
      },
      "execution_count": null,
      "outputs": []
    },
    {
      "cell_type": "code",
      "source": [
        "# Type1 분포\n",
        "plt.figure(figsize=(10, 7))  # 화면 해상도에 따라 그래프 크기를 조정해 주세요.\n",
        "\n",
        "plt.subplot(211)\n",
        "sns.countplot(data=ordinary, x=\"Type 1\", order=types).set_xlabel('')\n",
        "plt.title(\"[Ordinary Pokemons]\")\n",
        "\n",
        "plt.subplot(212)\n",
        "sns.countplot(data=legendary, x=\"Type 1\", order=types).set_xlabel('')\n",
        "plt.title(\"[Legendary Pokemons]\")\n",
        "\n",
        "plt.show()"
      ],
      "metadata": {
        "execution": {
          "iopub.status.busy": "2022-08-16T17:56:01.085509Z",
          "iopub.execute_input": "2022-08-16T17:56:01.087174Z",
          "iopub.status.idle": "2022-08-16T17:56:01.768987Z",
          "shell.execute_reply.started": "2022-08-16T17:56:01.087131Z",
          "shell.execute_reply": "2022-08-16T17:56:01.767617Z"
        },
        "trusted": true,
        "id": "UrFHkDtcaeQV"
      },
      "execution_count": null,
      "outputs": []
    },
    {
      "cell_type": "code",
      "source": [
        "# Type1별로 Legendary 의 비율을 보여주는 피벗 테이블\n",
        "pd.pivot_table(pokemon, index=\"Type 1\", values=\"Legendary\").sort_values(by=[\"Legendary\"], ascending=False)"
      ],
      "metadata": {
        "execution": {
          "iopub.status.busy": "2022-08-16T17:56:01.770346Z",
          "iopub.execute_input": "2022-08-16T17:56:01.771024Z",
          "iopub.status.idle": "2022-08-16T17:56:01.806603Z",
          "shell.execute_reply.started": "2022-08-16T17:56:01.770984Z",
          "shell.execute_reply": "2022-08-16T17:56:01.804988Z"
        },
        "trusted": true,
        "id": "zUtG58cBaeQV"
      },
      "execution_count": null,
      "outputs": []
    },
    {
      "cell_type": "code",
      "source": [
        "# Type2 분포\n",
        "plt.figure(figsize=(12, 10))  # 화면 해상도에 따라 그래프 크기를 조정해 주세요.\n",
        "\n",
        "plt.subplot(211)\n",
        "sns.countplot(data=ordinary, x=\"Type 2\", order=types).set_xlabel('')\n",
        "plt.title(\"[Ordinary Pokemons]\")\n",
        "\n",
        "plt.subplot(212)\n",
        "sns.countplot(data=legendary, x=\"Type 2\", order=types).set_xlabel('')\n",
        "plt.title(\"[Legendary Pokemons]\")\n",
        "\n",
        "plt.show()"
      ],
      "metadata": {
        "execution": {
          "iopub.status.busy": "2022-08-16T17:56:01.808565Z",
          "iopub.execute_input": "2022-08-16T17:56:01.809498Z",
          "iopub.status.idle": "2022-08-16T17:56:02.518185Z",
          "shell.execute_reply.started": "2022-08-16T17:56:01.809456Z",
          "shell.execute_reply": "2022-08-16T17:56:02.517038Z"
        },
        "trusted": true,
        "id": "n10sm16IaeQW"
      },
      "execution_count": null,
      "outputs": []
    },
    {
      "cell_type": "code",
      "source": [
        "# Type2별로 Legendary 의 비율을 보여주는 피벗 테이블\n",
        "pd.pivot_table(pokemon, index=\"Type 2\", values=\"Legendary\").sort_values(by=[\"Legendary\"], ascending=False)"
      ],
      "metadata": {
        "execution": {
          "iopub.status.busy": "2022-08-16T17:56:02.519503Z",
          "iopub.execute_input": "2022-08-16T17:56:02.519862Z",
          "iopub.status.idle": "2022-08-16T17:56:02.540122Z",
          "shell.execute_reply.started": "2022-08-16T17:56:02.519815Z",
          "shell.execute_reply": "2022-08-16T17:56:02.538722Z"
        },
        "trusted": true,
        "id": "rzbuBIkNaeQW"
      },
      "execution_count": null,
      "outputs": []
    },
    {
      "cell_type": "markdown",
      "source": [
        "실제로 6개 스탯의 총합과 데이터에 제공된 Total값이 맞는지 확인"
      ],
      "metadata": {
        "id": "0PZaOntAaeQW"
      }
    },
    {
      "cell_type": "code",
      "source": [
        "stats = [\"HP\", \"Attack\", \"Defense\", \"Sp. Atk\", \"Sp. Def\", \"Speed\"]\n",
        "stats"
      ],
      "metadata": {
        "execution": {
          "iopub.status.busy": "2022-08-16T17:56:02.541367Z",
          "iopub.execute_input": "2022-08-16T17:56:02.542104Z",
          "iopub.status.idle": "2022-08-16T17:56:02.554202Z",
          "shell.execute_reply.started": "2022-08-16T17:56:02.542066Z",
          "shell.execute_reply": "2022-08-16T17:56:02.553253Z"
        },
        "trusted": true,
        "id": "u4sdtCV_aeQW"
      },
      "execution_count": null,
      "outputs": []
    },
    {
      "cell_type": "code",
      "source": [
        "print(\"#0 pokemon: {}\\n\".format(pokemon.loc[0, \"Name\"]))\n",
        "print(\"total: \", int(pokemon.loc[0, \"Total\"]))\n",
        "print(\"stats: \", list(pokemon.loc[0, stats]))\n",
        "print(\"sum of all stats: \", sum(list(pokemon.loc[0, stats])))"
      ],
      "metadata": {
        "execution": {
          "iopub.status.busy": "2022-08-16T17:56:02.555998Z",
          "iopub.execute_input": "2022-08-16T17:56:02.556758Z",
          "iopub.status.idle": "2022-08-16T17:56:02.571598Z",
          "shell.execute_reply.started": "2022-08-16T17:56:02.556712Z",
          "shell.execute_reply": "2022-08-16T17:56:02.570343Z"
        },
        "trusted": true,
        "id": "eQmWg4dZaeQX"
      },
      "execution_count": null,
      "outputs": []
    },
    {
      "cell_type": "code",
      "source": [
        "print(\"#0 pokemon: {}\\n\".format(pokemon.loc[0, \"Name\"]))\n",
        "print(\"total: \", int(pokemon.loc[0, \"Total\"]))\n",
        "print(\"stats: \", list(pokemon.loc[0, stats]))\n",
        "print(\"sum of all stats: \", sum(list(pokemon.loc[0, stats])))"
      ],
      "metadata": {
        "execution": {
          "iopub.status.busy": "2022-08-16T17:56:02.573594Z",
          "iopub.execute_input": "2022-08-16T17:56:02.574605Z",
          "iopub.status.idle": "2022-08-16T17:56:02.589698Z",
          "shell.execute_reply.started": "2022-08-16T17:56:02.57455Z",
          "shell.execute_reply": "2022-08-16T17:56:02.588509Z"
        },
        "trusted": true,
        "id": "7nMT2qTeaeQX"
      },
      "execution_count": null,
      "outputs": []
    },
    {
      "cell_type": "code",
      "source": [
        "sum(pokemon['Total'].values == pokemon[stats].values.sum(axis=1))"
      ],
      "metadata": {
        "execution": {
          "iopub.status.busy": "2022-08-16T17:56:02.590816Z",
          "iopub.execute_input": "2022-08-16T17:56:02.591607Z",
          "iopub.status.idle": "2022-08-16T17:56:02.605748Z",
          "shell.execute_reply.started": "2022-08-16T17:56:02.591572Z",
          "shell.execute_reply": "2022-08-16T17:56:02.604158Z"
        },
        "trusted": true,
        "id": "NR3mBWLJaeQX"
      },
      "execution_count": null,
      "outputs": []
    },
    {
      "cell_type": "code",
      "source": [
        "# Total 분포\n",
        "fig, ax = plt.subplots()\n",
        "fig.set_size_inches(12, 6)  # 화면 해상도에 따라 그래프 크기를 조정해 주세요.\n",
        "\n",
        "sns.scatterplot(data=pokemon, x=\"Type 1\", y=\"Total\", hue=\"Legendary\")\n",
        "plt.show()"
      ],
      "metadata": {
        "execution": {
          "iopub.status.busy": "2022-08-16T17:56:02.607153Z",
          "iopub.execute_input": "2022-08-16T17:56:02.607985Z",
          "iopub.status.idle": "2022-08-16T17:56:03.146Z",
          "shell.execute_reply.started": "2022-08-16T17:56:02.607936Z",
          "shell.execute_reply": "2022-08-16T17:56:03.144654Z"
        },
        "trusted": true,
        "id": "bnhQB6yvaeQX"
      },
      "execution_count": null,
      "outputs": []
    },
    {
      "cell_type": "code",
      "source": [
        "# 세부스탯\n",
        "figure, ((ax1, ax2), (ax3, ax4), (ax5, ax6)) = plt.subplots(nrows=3, ncols=2)\n",
        "figure.set_size_inches(12, 18)  # 화면 해상도에 따라 그래프 크기를 조정해 주세요.\n",
        "\n",
        "sns.scatterplot(data=pokemon, y=\"Total\", x=\"HP\", hue=\"Legendary\", ax=ax1)\n",
        "sns.scatterplot(data=pokemon, y=\"Total\", x=\"Attack\", hue=\"Legendary\", ax=ax2)\n",
        "sns.scatterplot(data=pokemon, y=\"Total\", x=\"Defense\", hue=\"Legendary\", ax=ax3)\n",
        "sns.scatterplot(data=pokemon, y=\"Total\", x=\"Sp. Atk\", hue=\"Legendary\", ax=ax4)\n",
        "sns.scatterplot(data=pokemon, y=\"Total\", x=\"Sp. Def\", hue=\"Legendary\", ax=ax5)\n",
        "sns.scatterplot(data=pokemon, y=\"Total\", x=\"Speed\", hue=\"Legendary\", ax=ax6)\n",
        "plt.show()"
      ],
      "metadata": {
        "execution": {
          "iopub.status.busy": "2022-08-16T17:56:03.14754Z",
          "iopub.execute_input": "2022-08-16T17:56:03.147983Z",
          "iopub.status.idle": "2022-08-16T17:56:04.841945Z",
          "shell.execute_reply.started": "2022-08-16T17:56:03.147952Z",
          "shell.execute_reply": "2022-08-16T17:56:04.840409Z"
        },
        "trusted": true,
        "id": "Aa1-b8jSaeQY"
      },
      "execution_count": null,
      "outputs": []
    },
    {
      "cell_type": "markdown",
      "source": [
        "* HP, Defense, Sp. Def\n",
        "\n",
        "    전설의 포켓몬은 주로 높은 스탯을 갖지만, 이 세 가지에서는 일반 포켓몬이 전설의 포켓몬보다 특히 높은 몇몇 포켓몬이 있습니다.\n",
        "\n",
        "    그러나 그 포켓몬들도 Total 값은 특별히 높지 않은 것으로 보아 특정 스탯만 특별히 높은, 즉 특정 속성에 특화된 포켓몬들로 보입니다. (ex. 방어형, 공격형 등)\n",
        "\n",
        "* Attack, Sp. Atk, Speed\n",
        "\n",
        "    이 세 가지 스탯은 Total과 거의 비례합니다. 전설의 포켓몬이 각 스탯의 최대치를 차지하고 있습니다."
      ],
      "metadata": {
        "id": "BKvNReRUaeQY"
      }
    },
    {
      "cell_type": "code",
      "source": [
        "# 포케몬 세대\n",
        "plt.figure(figsize=(12, 10))   # 화면 해상도에 따라 그래프 크기를 조정해 주세요.\n",
        "\n",
        "plt.subplot(211)\n",
        "sns.countplot(data=ordinary, x=\"Generation\").set_xlabel('')\n",
        "plt.title(\"[All Pkemons]\")\n",
        "plt.subplot(212)\n",
        "sns.countplot(data=legendary, x=\"Generation\").set_xlabel('')\n",
        "plt.title(\"[Legendary Pkemons]\")\n",
        "plt.show()"
      ],
      "metadata": {
        "execution": {
          "iopub.status.busy": "2022-08-16T17:56:04.843988Z",
          "iopub.execute_input": "2022-08-16T17:56:04.845113Z",
          "iopub.status.idle": "2022-08-16T17:56:05.336767Z",
          "shell.execute_reply.started": "2022-08-16T17:56:04.845063Z",
          "shell.execute_reply": "2022-08-16T17:56:05.335549Z"
        },
        "trusted": true,
        "id": "QEk_bm4oaeQY"
      },
      "execution_count": null,
      "outputs": []
    },
    {
      "cell_type": "markdown",
      "source": [
        "## 데이터 전처리 ( 전처리 수행과정 설명)"
      ],
      "metadata": {
        "id": "5zRmU247aeQZ"
      }
    },
    {
      "cell_type": "code",
      "source": [
        "# 전설 포켓몬 total 값 -> 분포가 600에 몰려있다.\n",
        "fig, ax = plt.subplots()\n",
        "fig.set_size_inches(8, 4)\n",
        "\n",
        "sns.scatterplot(data=legendary, y=\"Type 1\", x=\"Total\")\n",
        "plt.show()"
      ],
      "metadata": {
        "execution": {
          "iopub.status.busy": "2022-08-16T17:56:05.339671Z",
          "iopub.execute_input": "2022-08-16T17:56:05.340136Z",
          "iopub.status.idle": "2022-08-16T17:56:05.676721Z",
          "shell.execute_reply.started": "2022-08-16T17:56:05.340086Z",
          "shell.execute_reply": "2022-08-16T17:56:05.675552Z"
        },
        "trusted": true,
        "id": "om_RcGOBaeQZ"
      },
      "execution_count": null,
      "outputs": []
    },
    {
      "cell_type": "code",
      "source": [
        "print(sorted(list(set(legendary[\"Total\"])))) # 단 9가지의 값만 존재"
      ],
      "metadata": {
        "execution": {
          "iopub.status.busy": "2022-08-16T17:56:05.683996Z",
          "iopub.execute_input": "2022-08-16T17:56:05.684443Z",
          "iopub.status.idle": "2022-08-16T17:56:05.690717Z",
          "shell.execute_reply.started": "2022-08-16T17:56:05.684401Z",
          "shell.execute_reply": "2022-08-16T17:56:05.689684Z"
        },
        "trusted": true,
        "id": "zUF5rTCDaeQZ"
      },
      "execution_count": null,
      "outputs": []
    },
    {
      "cell_type": "code",
      "source": [
        "fig, ax = plt.subplots()\n",
        "fig.set_size_inches(8, 4)\n",
        "\n",
        "sns.countplot(data=legendary, x=\"Total\")\n",
        "plt.show()"
      ],
      "metadata": {
        "execution": {
          "iopub.status.busy": "2022-08-16T17:56:05.692676Z",
          "iopub.execute_input": "2022-08-16T17:56:05.693189Z",
          "iopub.status.idle": "2022-08-16T17:56:06.132496Z",
          "shell.execute_reply.started": "2022-08-16T17:56:05.693151Z",
          "shell.execute_reply": "2022-08-16T17:56:06.131442Z"
        },
        "trusted": true,
        "id": "WnQl882xaeQZ"
      },
      "execution_count": null,
      "outputs": []
    },
    {
      "cell_type": "code",
      "source": [
        "round(65 / 9, 2) # 약 7.22마리끼리 같은 total 스탯값을 가짐"
      ],
      "metadata": {
        "execution": {
          "iopub.status.busy": "2022-08-16T17:56:06.134012Z",
          "iopub.execute_input": "2022-08-16T17:56:06.135087Z",
          "iopub.status.idle": "2022-08-16T17:56:06.142609Z",
          "shell.execute_reply.started": "2022-08-16T17:56:06.135047Z",
          "shell.execute_reply": "2022-08-16T17:56:06.141164Z"
        },
        "trusted": true,
        "id": "PmYyXt2taeQZ"
      },
      "execution_count": null,
      "outputs": []
    },
    {
      "cell_type": "code",
      "source": [
        "print(sorted(list(set(ordinary[\"Total\"]))))"
      ],
      "metadata": {
        "execution": {
          "iopub.status.busy": "2022-08-16T17:56:06.144415Z",
          "iopub.execute_input": "2022-08-16T17:56:06.144904Z",
          "iopub.status.idle": "2022-08-16T17:56:06.157354Z",
          "shell.execute_reply.started": "2022-08-16T17:56:06.14486Z",
          "shell.execute_reply": "2022-08-16T17:56:06.155938Z"
        },
        "trusted": true,
        "id": "vBj6aS-faeQZ"
      },
      "execution_count": null,
      "outputs": []
    },
    {
      "cell_type": "code",
      "source": [
        "len(sorted(list(set(ordinary[\"Total\"]))))"
      ],
      "metadata": {
        "execution": {
          "iopub.status.busy": "2022-08-16T17:56:06.158791Z",
          "iopub.execute_input": "2022-08-16T17:56:06.160019Z",
          "iopub.status.idle": "2022-08-16T17:56:06.17055Z",
          "shell.execute_reply.started": "2022-08-16T17:56:06.159983Z",
          "shell.execute_reply": "2022-08-16T17:56:06.169436Z"
        },
        "trusted": true,
        "id": "TcqyiLMDaeQj"
      },
      "execution_count": null,
      "outputs": []
    },
    {
      "cell_type": "code",
      "source": [
        "round(735 / 195, 2) # 일반 포켓몬은 약 3.77마리"
      ],
      "metadata": {
        "execution": {
          "iopub.status.busy": "2022-08-16T17:56:06.172097Z",
          "iopub.execute_input": "2022-08-16T17:56:06.172508Z",
          "iopub.status.idle": "2022-08-16T17:56:06.184412Z",
          "shell.execute_reply.started": "2022-08-16T17:56:06.172473Z",
          "shell.execute_reply": "2022-08-16T17:56:06.182997Z"
        },
        "trusted": true,
        "id": "r3P42cxXaeQk"
      },
      "execution_count": null,
      "outputs": []
    },
    {
      "cell_type": "markdown",
      "source": [
        "* Total값의 다양성은 일반 포켓몬이 전설의 포켓몬보다 두 배 가까이 됩니다. 즉 전설의 포켓몬의 Total값은 다양하지 않습니다.\n",
        "    : 한 포켓몬의 Total 속성값이 전설의 포켓몬의 값들 집합에 포함되는지의 여부는 전설의 포켓몬임을 결정하는 데에 영향을 미칩니다.\n",
        "\n",
        "* 또한, 전설의 포켓몬의 Total 값 중에는 일반 포켓몬이 가지지 못하는 Total값이 존재합니다. ex) 680, 720, 770, 780\n",
        "    : Total값은 전설의 포켓몬인지 아닌지를 결정하는 데에 이러한 방식으로도 영향을 미칠 수 있습니다.\n",
        "\n",
        "* 즉, Total값은 legendary인지 아닌지를 예측하는 데에 중요한 컬럼일 것이라는 결론을 내릴 수 있습니다."
      ],
      "metadata": {
        "id": "BTXW_iAYaeQk"
      }
    },
    {
      "cell_type": "code",
      "source": [
        "# 특정 단어가 들어가 있는 이름\n",
        "n1, n2, n3, n4, n5 = legendary[3:6], legendary[14:24], legendary[25:29], legendary[46:50], legendary[52:57]\n",
        "names = pd.concat([n1, n2, n3, n4, n5]).reset_index(drop=True)\n",
        "names"
      ],
      "metadata": {
        "execution": {
          "iopub.status.busy": "2022-08-16T17:56:06.185862Z",
          "iopub.execute_input": "2022-08-16T17:56:06.186448Z",
          "iopub.status.idle": "2022-08-16T17:56:06.214665Z",
          "shell.execute_reply.started": "2022-08-16T17:56:06.186405Z",
          "shell.execute_reply": "2022-08-16T17:56:06.213315Z"
        },
        "trusted": true,
        "id": "Kq4gS8DgaeQl"
      },
      "execution_count": null,
      "outputs": []
    },
    {
      "cell_type": "markdown",
      "source": [
        "* \"MewTwo\", \"Latias\", \"Latios\", \"Kyogre\", \"Groudon\", \"Rayquaza\", \"Kyurem\" 등의 이름에서부터 그 앞에 성이 붙습니다."
      ],
      "metadata": {
        "id": "3xGXZLxRaeQl"
      }
    },
    {
      "cell_type": "code",
      "source": [
        "formes = names[13:23]\n",
        "formes\n",
        "# 이름에 forme가 들어가면 이는 전설의 포켓몬일 확률이 아주 높겠군요!"
      ],
      "metadata": {
        "execution": {
          "iopub.status.busy": "2022-08-16T17:56:06.216688Z",
          "iopub.execute_input": "2022-08-16T17:56:06.21711Z",
          "iopub.status.idle": "2022-08-16T17:56:06.239372Z",
          "shell.execute_reply.started": "2022-08-16T17:56:06.217075Z",
          "shell.execute_reply": "2022-08-16T17:56:06.238107Z"
        },
        "trusted": true,
        "id": "hLDXC8rmaeQm"
      },
      "execution_count": null,
      "outputs": []
    },
    {
      "cell_type": "markdown",
      "source": [
        "파이썬 람다(lambda) 문법\n",
        "https://wikidocs.net/64"
      ],
      "metadata": {
        "id": "ohOeUc_1aeQm"
      }
    },
    {
      "cell_type": "code",
      "source": [
        "legendary[\"name_count\"] = legendary[\"Name\"].apply(lambda i: len(i))\n",
        "legendary.head()"
      ],
      "metadata": {
        "execution": {
          "iopub.status.busy": "2022-08-16T17:56:06.240876Z",
          "iopub.execute_input": "2022-08-16T17:56:06.241747Z",
          "iopub.status.idle": "2022-08-16T17:56:06.261747Z",
          "shell.execute_reply.started": "2022-08-16T17:56:06.241712Z",
          "shell.execute_reply": "2022-08-16T17:56:06.260568Z"
        },
        "trusted": true,
        "id": "vyosUzcsaeQm"
      },
      "execution_count": null,
      "outputs": []
    },
    {
      "cell_type": "code",
      "source": [
        "ordinary[\"name_count\"] = ordinary[\"Name\"].apply(lambda i: len(i))\n",
        "ordinary.head()"
      ],
      "metadata": {
        "execution": {
          "iopub.status.busy": "2022-08-16T17:56:06.263443Z",
          "iopub.execute_input": "2022-08-16T17:56:06.263784Z",
          "iopub.status.idle": "2022-08-16T17:56:06.284387Z",
          "shell.execute_reply.started": "2022-08-16T17:56:06.263754Z",
          "shell.execute_reply": "2022-08-16T17:56:06.283028Z"
        },
        "trusted": true,
        "id": "tiO3IZIyaeQm"
      },
      "execution_count": null,
      "outputs": []
    },
    {
      "cell_type": "code",
      "source": [
        "plt.figure(figsize=(12, 10))   # 화면 해상도에 따라 그래프 크기를 조정해 주세요.\n",
        "\n",
        "plt.subplot(211)\n",
        "sns.countplot(data=legendary, x=\"name_count\").set_xlabel('')\n",
        "plt.title(\"Legendary\")\n",
        "plt.subplot(212)\n",
        "sns.countplot(data=ordinary, x=\"name_count\").set_xlabel('')\n",
        "plt.title(\"Ordinary\")\n",
        "plt.show()\n",
        "# 전설의 포켓몬은 16 이상의 긴 이름을 가진 포켓몬이 많은 반면, 일반 포켓몬은 10 이상의 길이를 가지는 이름의 빈도가 아주 낮습니다."
      ],
      "metadata": {
        "execution": {
          "iopub.status.busy": "2022-08-16T17:56:06.286302Z",
          "iopub.execute_input": "2022-08-16T17:56:06.286769Z",
          "iopub.status.idle": "2022-08-16T17:56:06.982154Z",
          "shell.execute_reply.started": "2022-08-16T17:56:06.286724Z",
          "shell.execute_reply": "2022-08-16T17:56:06.981313Z"
        },
        "trusted": true,
        "id": "9T4vceOmaeQm"
      },
      "execution_count": null,
      "outputs": []
    },
    {
      "cell_type": "code",
      "source": [
        "# 전설의 포켓몬의 이름이 10 이상일 확률\n",
        "print(round(len(legendary[legendary[\"name_count\"] > 9]) / len(legendary) * 100, 2), \"%\")"
      ],
      "metadata": {
        "execution": {
          "iopub.status.busy": "2022-08-16T17:56:06.983694Z",
          "iopub.execute_input": "2022-08-16T17:56:06.984308Z",
          "iopub.status.idle": "2022-08-16T17:56:06.992021Z",
          "shell.execute_reply.started": "2022-08-16T17:56:06.98427Z",
          "shell.execute_reply": "2022-08-16T17:56:06.990653Z"
        },
        "trusted": true,
        "id": "jGAndWh6aeQn"
      },
      "execution_count": null,
      "outputs": []
    },
    {
      "cell_type": "code",
      "source": [
        "print(round(len(ordinary[ordinary[\"name_count\"] > 9]) / len(ordinary) * 100, 2), \"%\")"
      ],
      "metadata": {
        "execution": {
          "iopub.status.busy": "2022-08-16T17:56:06.993852Z",
          "iopub.execute_input": "2022-08-16T17:56:06.994217Z",
          "iopub.status.idle": "2022-08-16T17:56:07.00971Z",
          "shell.execute_reply.started": "2022-08-16T17:56:06.994183Z",
          "shell.execute_reply": "2022-08-16T17:56:07.008516Z"
        },
        "trusted": true,
        "id": "Ob7iJ0qlaeQn"
      },
      "execution_count": null,
      "outputs": []
    },
    {
      "cell_type": "markdown",
      "source": [
        "* 만약 \"Latios\"가 전설의 포켓몬이라면, \"%%% Latios\" 또한 전설의 포켓몬이다!\n",
        "* 적어도 전설의 포켓몬에서 높은 빈도를 보이는 이름들의 모임이 존재한다!\n",
        "* 전설의 포켓몬은 긴 이름을 가졌을 확률이 높다!"
      ],
      "metadata": {
        "id": "_wfGdU-QaeQo"
      }
    },
    {
      "cell_type": "code",
      "source": [
        "# 이름의 길이가 10 이상인지 이하인지 확인\n",
        "pokemon[\"name_count\"] = pokemon[\"Name\"].apply(lambda i: len(i))\n",
        "pokemon.head()"
      ],
      "metadata": {
        "execution": {
          "iopub.status.busy": "2022-08-16T17:56:07.011399Z",
          "iopub.execute_input": "2022-08-16T17:56:07.012086Z",
          "iopub.status.idle": "2022-08-16T17:56:07.034481Z",
          "shell.execute_reply.started": "2022-08-16T17:56:07.012048Z",
          "shell.execute_reply": "2022-08-16T17:56:07.033431Z"
        },
        "trusted": true,
        "id": "4O2PfQW4aeQo"
      },
      "execution_count": null,
      "outputs": []
    },
    {
      "cell_type": "code",
      "source": [
        "pokemon[\"long_name\"] = pokemon[\"name_count\"] >= 10\n",
        "pokemon.head()"
      ],
      "metadata": {
        "execution": {
          "iopub.status.busy": "2022-08-16T17:56:07.036016Z",
          "iopub.execute_input": "2022-08-16T17:56:07.036709Z",
          "iopub.status.idle": "2022-08-16T17:56:07.056202Z",
          "shell.execute_reply.started": "2022-08-16T17:56:07.036673Z",
          "shell.execute_reply": "2022-08-16T17:56:07.055295Z"
        },
        "trusted": true,
        "id": "MAYBC4sUaeQp"
      },
      "execution_count": null,
      "outputs": []
    },
    {
      "cell_type": "markdown",
      "source": [
        "전설의 포켓몬을 분류하는 데에 이름의 길잇값 자체를 가진 name_count 컬럼이 더 유리할지, 혹은 long_name이 더 유리할지는 아직 모름\n",
        "\n",
        "-> 모델 학습 시 두개의 피처 모두 활용"
      ],
      "metadata": {
        "id": "fTA0zfxYaeQp"
      }
    },
    {
      "cell_type": "markdown",
      "source": [
        "### 이름에 자주 쓰이는 토큰 추출\n",
        "이름에 알파벳이 아닌 문자가 들어간 경우 전처리하기\n",
        "\n",
        "isalpha()함수 활용 https://pandas.pydata.org/pandas-docs/stable/reference/api/pandas.Series.str.isalpha.html"
      ],
      "metadata": {
        "id": "trovc5VjaeQp"
      }
    },
    {
      "cell_type": "code",
      "source": [
        "# isalpha()는 띄어쓰기가 있는 경우에도 False로 처리함, 따라서 공백 제거\n",
        "pokemon[\"Name_nospace\"] = pokemon[\"Name\"].apply(lambda i: i.replace(\" \", \"\"))\n",
        "pokemon.tail()"
      ],
      "metadata": {
        "execution": {
          "iopub.status.busy": "2022-08-16T17:56:07.057769Z",
          "iopub.execute_input": "2022-08-16T17:56:07.058424Z",
          "iopub.status.idle": "2022-08-16T17:56:07.078865Z",
          "shell.execute_reply.started": "2022-08-16T17:56:07.058388Z",
          "shell.execute_reply": "2022-08-16T17:56:07.077896Z"
        },
        "trusted": true,
        "id": "5T24MrnvaeQp"
      },
      "execution_count": null,
      "outputs": []
    },
    {
      "cell_type": "code",
      "source": [
        "pokemon[\"name_isalpha\"] = pokemon[\"Name_nospace\"].apply(lambda i: i.isalpha())\n",
        "pokemon.head()"
      ],
      "metadata": {
        "execution": {
          "iopub.status.busy": "2022-08-16T17:56:07.080417Z",
          "iopub.execute_input": "2022-08-16T17:56:07.081085Z",
          "iopub.status.idle": "2022-08-16T17:56:07.102647Z",
          "shell.execute_reply.started": "2022-08-16T17:56:07.081049Z",
          "shell.execute_reply": "2022-08-16T17:56:07.101382Z"
        },
        "trusted": true,
        "id": "o0v5999TaeQq"
      },
      "execution_count": null,
      "outputs": []
    },
    {
      "cell_type": "code",
      "source": [
        "print(pokemon[pokemon[\"name_isalpha\"] == False].shape)\n",
        "pokemon[pokemon[\"name_isalpha\"] == False]"
      ],
      "metadata": {
        "execution": {
          "iopub.status.busy": "2022-08-16T17:56:07.104379Z",
          "iopub.execute_input": "2022-08-16T17:56:07.104736Z",
          "iopub.status.idle": "2022-08-16T17:56:07.129905Z",
          "shell.execute_reply.started": "2022-08-16T17:56:07.104705Z",
          "shell.execute_reply": "2022-08-16T17:56:07.128546Z"
        },
        "trusted": true,
        "id": "Il2scmGTaeQq"
      },
      "execution_count": null,
      "outputs": []
    },
    {
      "cell_type": "code",
      "source": [
        "pokemon = pokemon.replace(to_replace=\"Nidoran♀\", value=\"Nidoran X\")\n",
        "pokemon = pokemon.replace(to_replace=\"Nidoran♂\", value=\"Nidoran Y\")\n",
        "pokemon = pokemon.replace(to_replace=\"Farfetch'd\", value=\"Farfetchd\")\n",
        "pokemon = pokemon.replace(to_replace=\"Mr. Mime\", value=\"Mr Mime\")\n",
        "pokemon = pokemon.replace(to_replace=\"Porygon2\", value=\"Porygon\")\n",
        "pokemon = pokemon.replace(to_replace=\"Ho-oh\", value=\"Ho Oh\")\n",
        "pokemon = pokemon.replace(to_replace=\"Mime Jr.\", value=\"Mime Jr\")\n",
        "pokemon = pokemon.replace(to_replace=\"Porygon-Z\", value=\"Porygon Z\")\n",
        "pokemon = pokemon.replace(to_replace=\"Zygarde50% Forme\", value=\"Zygarde Forme\")\n",
        "\n",
        "pokemon.loc[[34, 37, 90, 131, 252, 270, 487, 525, 794]]"
      ],
      "metadata": {
        "execution": {
          "iopub.status.busy": "2022-08-16T17:56:07.131461Z",
          "iopub.execute_input": "2022-08-16T17:56:07.132714Z",
          "iopub.status.idle": "2022-08-16T17:56:07.166678Z",
          "shell.execute_reply.started": "2022-08-16T17:56:07.132665Z",
          "shell.execute_reply": "2022-08-16T17:56:07.165748Z"
        },
        "trusted": true,
        "id": "2xddbQeVaeQq"
      },
      "execution_count": null,
      "outputs": []
    },
    {
      "cell_type": "code",
      "source": [
        "pokemon[\"Name_nospace\"] = pokemon[\"Name\"].apply(lambda i: i.replace(\" \", \"\"))\n",
        "pokemon[\"name_isalpha\"] = pokemon[\"Name_nospace\"].apply(lambda i: i.isalpha())\n",
        "pokemon[pokemon[\"name_isalpha\"] == False]"
      ],
      "metadata": {
        "execution": {
          "iopub.status.busy": "2022-08-16T17:56:07.167762Z",
          "iopub.execute_input": "2022-08-16T17:56:07.168643Z",
          "iopub.status.idle": "2022-08-16T17:56:07.184773Z",
          "shell.execute_reply.started": "2022-08-16T17:56:07.168605Z",
          "shell.execute_reply": "2022-08-16T17:56:07.183812Z"
        },
        "trusted": true,
        "id": "20Bkjdh_aeQq"
      },
      "execution_count": null,
      "outputs": []
    },
    {
      "cell_type": "markdown",
      "source": [
        "이름을 띄어쓰기 & 대문자 기준으로 분리해 토큰화하기\n",
        "\n",
        "정규표현식 활용: https://wikidocs.net/4308"
      ],
      "metadata": {
        "id": "-4iqhU58aeQq"
      }
    },
    {
      "cell_type": "code",
      "source": [
        "import re"
      ],
      "metadata": {
        "execution": {
          "iopub.status.busy": "2022-08-16T17:56:07.18585Z",
          "iopub.execute_input": "2022-08-16T17:56:07.18651Z",
          "iopub.status.idle": "2022-08-16T17:56:07.192299Z",
          "shell.execute_reply.started": "2022-08-16T17:56:07.186468Z",
          "shell.execute_reply": "2022-08-16T17:56:07.191015Z"
        },
        "trusted": true,
        "id": "TNV15FxoaeQr"
      },
      "execution_count": null,
      "outputs": []
    },
    {
      "cell_type": "code",
      "source": [
        "name = \"CharizardMega Charizard X\""
      ],
      "metadata": {
        "execution": {
          "iopub.status.busy": "2022-08-16T17:56:07.193983Z",
          "iopub.execute_input": "2022-08-16T17:56:07.194497Z",
          "iopub.status.idle": "2022-08-16T17:56:07.204321Z",
          "shell.execute_reply.started": "2022-08-16T17:56:07.19445Z",
          "shell.execute_reply": "2022-08-16T17:56:07.203211Z"
        },
        "trusted": true,
        "id": "K6UTEj6SaeQr"
      },
      "execution_count": null,
      "outputs": []
    },
    {
      "cell_type": "code",
      "source": [
        "name_split = name.split(\" \")\n",
        "name_split"
      ],
      "metadata": {
        "execution": {
          "iopub.status.busy": "2022-08-16T17:56:07.205917Z",
          "iopub.execute_input": "2022-08-16T17:56:07.206358Z",
          "iopub.status.idle": "2022-08-16T17:56:07.219193Z",
          "shell.execute_reply.started": "2022-08-16T17:56:07.206328Z",
          "shell.execute_reply": "2022-08-16T17:56:07.218151Z"
        },
        "trusted": true,
        "id": "giH9NLO9aeQr"
      },
      "execution_count": null,
      "outputs": []
    },
    {
      "cell_type": "code",
      "source": [
        "temp = name_split[0]\n",
        "temp"
      ],
      "metadata": {
        "execution": {
          "iopub.status.busy": "2022-08-16T17:56:07.220683Z",
          "iopub.execute_input": "2022-08-16T17:56:07.221737Z",
          "iopub.status.idle": "2022-08-16T17:56:07.232158Z",
          "shell.execute_reply.started": "2022-08-16T17:56:07.221667Z",
          "shell.execute_reply": "2022-08-16T17:56:07.23084Z"
        },
        "trusted": true,
        "id": "7OP9dg0paeQr"
      },
      "execution_count": null,
      "outputs": []
    },
    {
      "cell_type": "code",
      "source": [
        "# 대문자로 시작해서 소문자로 끝나는 토큰들로 분리\n",
        "tokens = re.findall('[A-Z][a-z]*', temp)\n",
        "tokens"
      ],
      "metadata": {
        "execution": {
          "iopub.status.busy": "2022-08-16T17:56:07.233407Z",
          "iopub.execute_input": "2022-08-16T17:56:07.234364Z",
          "iopub.status.idle": "2022-08-16T17:56:07.244912Z",
          "shell.execute_reply.started": "2022-08-16T17:56:07.234325Z",
          "shell.execute_reply": "2022-08-16T17:56:07.243936Z"
        },
        "trusted": true,
        "id": "Ck7rYrE9aeQr"
      },
      "execution_count": null,
      "outputs": []
    },
    {
      "cell_type": "markdown",
      "source": [
        "* [A-Z] : A부터 Z까지의 대문자 중 한 가지로 시작하고,\n",
        "* [a-z] : 그 뒤에 a부터 z까지의 소문자 중 한 가지가 붙는데,\n",
        "* * : 그 소문자의 개수는 하나 이상인 패턴 (*는 정규표현식 중에서 \"반복\"을 나타내는 기호)"
      ],
      "metadata": {
        "id": "Sk08H2RZaeQs"
      }
    },
    {
      "cell_type": "code",
      "source": [
        "tokens = []\n",
        "for part_name in name_split:\n",
        "    a = re.findall('[A-Z][a-z]*', part_name)\n",
        "    tokens.extend(a)\n",
        "tokens"
      ],
      "metadata": {
        "execution": {
          "iopub.status.busy": "2022-08-16T17:56:07.247297Z",
          "iopub.execute_input": "2022-08-16T17:56:07.247719Z",
          "iopub.status.idle": "2022-08-16T17:56:07.258268Z",
          "shell.execute_reply.started": "2022-08-16T17:56:07.247632Z",
          "shell.execute_reply": "2022-08-16T17:56:07.256951Z"
        },
        "trusted": true,
        "id": "XoMwjkBvaeQs"
      },
      "execution_count": null,
      "outputs": []
    },
    {
      "cell_type": "code",
      "source": [
        "def tokenize(name):\n",
        "    name_split = name.split(\" \")\n",
        "\n",
        "    tokens = []\n",
        "    for part_name in name_split:\n",
        "        a = re.findall('[A-Z][a-z]*', part_name)\n",
        "        tokens.extend(a)\n",
        "\n",
        "    return np.array(tokens)"
      ],
      "metadata": {
        "execution": {
          "iopub.status.busy": "2022-08-16T17:56:07.259668Z",
          "iopub.execute_input": "2022-08-16T17:56:07.26083Z",
          "iopub.status.idle": "2022-08-16T17:56:07.275018Z",
          "shell.execute_reply.started": "2022-08-16T17:56:07.260793Z",
          "shell.execute_reply": "2022-08-16T17:56:07.273825Z"
        },
        "trusted": true,
        "id": "z7TDfezoaeQs"
      },
      "execution_count": null,
      "outputs": []
    },
    {
      "cell_type": "code",
      "source": [
        "name = \"CharizardMega Charizard X\"\n",
        "tokenize(name)"
      ],
      "metadata": {
        "execution": {
          "iopub.status.busy": "2022-08-16T17:56:07.276274Z",
          "iopub.execute_input": "2022-08-16T17:56:07.277431Z",
          "iopub.status.idle": "2022-08-16T17:56:07.290586Z",
          "shell.execute_reply.started": "2022-08-16T17:56:07.277389Z",
          "shell.execute_reply": "2022-08-16T17:56:07.289567Z"
        },
        "trusted": true,
        "id": "hIDkK812aeQs"
      },
      "execution_count": null,
      "outputs": []
    },
    {
      "cell_type": "code",
      "source": [
        "all_tokens = list(legendary[\"Name\"].apply(tokenize).values)\n",
        "\n",
        "token_set = []\n",
        "for token in all_tokens:\n",
        "    token_set.extend(token)\n",
        "\n",
        "print(len(set(token_set)))\n",
        "print(token_set)"
      ],
      "metadata": {
        "execution": {
          "iopub.status.busy": "2022-08-16T17:56:07.292214Z",
          "iopub.execute_input": "2022-08-16T17:56:07.292597Z",
          "iopub.status.idle": "2022-08-16T17:56:07.30503Z",
          "shell.execute_reply.started": "2022-08-16T17:56:07.292556Z",
          "shell.execute_reply": "2022-08-16T17:56:07.303754Z"
        },
        "trusted": true,
        "id": "31nhL6PjaeQt"
      },
      "execution_count": null,
      "outputs": []
    },
    {
      "cell_type": "markdown",
      "source": [
        "list 또는 set의 자료형에서 각 요소의 개수를 다루고 싶을 때에는 파이썬의 collection이라는 패키지를 사용하면 편리합니다.\n",
        "\n",
        "collection은 순서가 있는 딕셔너리인 OrderedDict, 요소의 개수를 카운트하는 Counter 등 여러 다양한 모듈을 제공합니다.\n",
        "\n",
        "https://github.com/hero0926/HERO_TIL/blob/master/Python/collections.md#counter"
      ],
      "metadata": {
        "id": "34-msPhOaeQt"
      }
    },
    {
      "cell_type": "code",
      "source": [
        "from collections import Counter"
      ],
      "metadata": {
        "execution": {
          "iopub.status.busy": "2022-08-16T17:56:07.307201Z",
          "iopub.execute_input": "2022-08-16T17:56:07.307688Z",
          "iopub.status.idle": "2022-08-16T17:56:07.316482Z",
          "shell.execute_reply.started": "2022-08-16T17:56:07.307652Z",
          "shell.execute_reply": "2022-08-16T17:56:07.315278Z"
        },
        "trusted": true,
        "id": "b4kvmwtRaeQu"
      },
      "execution_count": null,
      "outputs": []
    },
    {
      "cell_type": "code",
      "source": [
        "a = [1, 1, 0, 0, 0, 1, 1, 2, 3]\n",
        "Counter(a)"
      ],
      "metadata": {
        "execution": {
          "iopub.status.busy": "2022-08-16T17:56:07.317771Z",
          "iopub.execute_input": "2022-08-16T17:56:07.318142Z",
          "iopub.status.idle": "2022-08-16T17:56:07.330609Z",
          "shell.execute_reply.started": "2022-08-16T17:56:07.318109Z",
          "shell.execute_reply": "2022-08-16T17:56:07.329338Z"
        },
        "trusted": true,
        "id": "WI1QPgBHaeQu"
      },
      "execution_count": null,
      "outputs": []
    },
    {
      "cell_type": "code",
      "source": [
        "Counter(a).most_common()"
      ],
      "metadata": {
        "execution": {
          "iopub.status.busy": "2022-08-16T17:56:07.332121Z",
          "iopub.execute_input": "2022-08-16T17:56:07.332488Z",
          "iopub.status.idle": "2022-08-16T17:56:07.347478Z",
          "shell.execute_reply.started": "2022-08-16T17:56:07.332457Z",
          "shell.execute_reply": "2022-08-16T17:56:07.345987Z"
        },
        "trusted": true,
        "id": "Pq_Vip8CaeQv"
      },
      "execution_count": null,
      "outputs": []
    },
    {
      "cell_type": "code",
      "source": [
        "most_common = Counter(token_set).most_common(10)\n",
        "most_common"
      ],
      "metadata": {
        "execution": {
          "iopub.status.busy": "2022-08-16T17:56:07.349189Z",
          "iopub.execute_input": "2022-08-16T17:56:07.349741Z",
          "iopub.status.idle": "2022-08-16T17:56:07.36175Z",
          "shell.execute_reply.started": "2022-08-16T17:56:07.349707Z",
          "shell.execute_reply": "2022-08-16T17:56:07.360156Z"
        },
        "trusted": true,
        "id": "c40KTJhPaeQv"
      },
      "execution_count": null,
      "outputs": []
    },
    {
      "cell_type": "code",
      "source": [
        "# 전설의 포켓몬 이름에 등장하는 토큰이 포켓몬의 이름에 있는지의 여부를 나타내는 컬럼\n",
        "\n",
        "for token, _ in most_common:\n",
        "    pokemon[token] = pokemon[\"Name\"].str.contains(token)\n",
        "\n",
        "pokemon.head(10)"
      ],
      "metadata": {
        "execution": {
          "iopub.status.busy": "2022-08-16T17:56:07.363139Z",
          "iopub.execute_input": "2022-08-16T17:56:07.364Z",
          "iopub.status.idle": "2022-08-16T17:56:07.416832Z",
          "shell.execute_reply.started": "2022-08-16T17:56:07.363961Z",
          "shell.execute_reply": "2022-08-16T17:56:07.415308Z"
        },
        "trusted": true,
        "id": "-LUDSFB2aeQw"
      },
      "execution_count": null,
      "outputs": []
    },
    {
      "cell_type": "markdown",
      "source": [
        "## 범주형 데이터 전처리\n",
        "* 18가지의 모든 Type를 모두 원-핫 인코딩(One-Hot Encoding)합니다.\n",
        "* 두 가지 속성을 가진 포켓몬은 두 가지 Type에 해당하는 자리에서 1 값을 가지도록 합니다.\n",
        "\n",
        "원-핫인코딩: https://machinelearningmastery.com/why-one-hot-encode-data-in-machine-learning/"
      ],
      "metadata": {
        "id": "obkKEn4iaeQw"
      }
    },
    {
      "cell_type": "code",
      "source": [
        "print(types)"
      ],
      "metadata": {
        "execution": {
          "iopub.status.busy": "2022-08-16T17:56:07.41866Z",
          "iopub.execute_input": "2022-08-16T17:56:07.419399Z",
          "iopub.status.idle": "2022-08-16T17:56:07.425596Z",
          "shell.execute_reply.started": "2022-08-16T17:56:07.419352Z",
          "shell.execute_reply": "2022-08-16T17:56:07.424163Z"
        },
        "trusted": true,
        "id": "ENwBPVeTaeQw"
      },
      "execution_count": null,
      "outputs": []
    },
    {
      "cell_type": "code",
      "source": [
        "for t in types:\n",
        "    pokemon[t] = (pokemon[\"Type 1\"] == t) | (pokemon[\"Type 2\"] == t)\n",
        "\n",
        "pokemon[[[\"Type 1\", \"Type 2\"] + types][0]].head()"
      ],
      "metadata": {
        "execution": {
          "iopub.status.busy": "2022-08-16T17:56:07.427294Z",
          "iopub.execute_input": "2022-08-16T17:56:07.427727Z",
          "iopub.status.idle": "2022-08-16T17:56:07.479238Z",
          "shell.execute_reply.started": "2022-08-16T17:56:07.427688Z",
          "shell.execute_reply": "2022-08-16T17:56:07.477614Z"
        },
        "trusted": true,
        "id": "gCC_cab3aeQw"
      },
      "execution_count": null,
      "outputs": []
    },
    {
      "cell_type": "code",
      "source": [],
      "metadata": {
        "id": "IH713RQ4a9xz"
      },
      "execution_count": null,
      "outputs": []
    },
    {
      "cell_type": "markdown",
      "source": [
        "## 베이스라인 모델 학습 성공 및 분석\n",
        "### 베이스라인 모델이란\n",
        "가장 기초적인 방법으로 만든 모델!\n",
        "\n",
        "베이스라인 모델은 성능은 안 좋을지 모르지만, 성능 하한선을 제공함으로써 우리가 새롭게 만들 모델이 맞는 방향으로 가고 있는지 확인할 수 있게 도와줍니다\n",
        "\n",
        "(방법이 맞는 모델 구현이라면 적어도 베이스라인 모델보다는 성능이 잘 나오겠죠).\n",
        "\n",
        "베이스라인 모델을 만들면 자신이 데이터를 맞게 이해하고 있는지 확인할 수도 있습니다."
      ],
      "metadata": {
        "id": "sYk4fQsTaeQx"
      }
    },
    {
      "cell_type": "code",
      "source": [
        "print(original_data.shape)\n",
        "original_data.head()"
      ],
      "metadata": {
        "execution": {
          "iopub.status.busy": "2022-08-16T17:56:07.481154Z",
          "iopub.execute_input": "2022-08-16T17:56:07.482045Z",
          "iopub.status.idle": "2022-08-16T17:56:07.498918Z",
          "shell.execute_reply.started": "2022-08-16T17:56:07.481996Z",
          "shell.execute_reply": "2022-08-16T17:56:07.497726Z"
        },
        "trusted": true,
        "id": "Dta2Rb8LaeQx"
      },
      "execution_count": null,
      "outputs": []
    },
    {
      "cell_type": "code",
      "source": [
        "# 문자열 칼럼은 제\n",
        "original_data.columns"
      ],
      "metadata": {
        "execution": {
          "iopub.status.busy": "2022-08-16T17:56:07.500584Z",
          "iopub.execute_input": "2022-08-16T17:56:07.501243Z",
          "iopub.status.idle": "2022-08-16T17:56:07.511416Z",
          "shell.execute_reply.started": "2022-08-16T17:56:07.50119Z",
          "shell.execute_reply": "2022-08-16T17:56:07.510451Z"
        },
        "trusted": true,
        "id": "Hi-EATkQaeQx"
      },
      "execution_count": null,
      "outputs": []
    },
    {
      "cell_type": "code",
      "source": [
        "#  의미 없는 컬럼인 #와 문자열 데이터인 Name, Type 1, Type 2 데이터는 제외하고 사용\n",
        "# target 데이터인 Legendary 또한 당연히 빼주는 것\n",
        "features = ['Total', 'HP', 'Attack', 'Defense', 'Sp. Atk', 'Sp. Def', 'Speed', 'Generation']"
      ],
      "metadata": {
        "execution": {
          "iopub.status.busy": "2022-08-16T17:56:07.512991Z",
          "iopub.execute_input": "2022-08-16T17:56:07.513534Z",
          "iopub.status.idle": "2022-08-16T17:56:07.522382Z",
          "shell.execute_reply.started": "2022-08-16T17:56:07.513354Z",
          "shell.execute_reply": "2022-08-16T17:56:07.52048Z"
        },
        "trusted": true,
        "id": "ivhmMdr7aeQy"
      },
      "execution_count": null,
      "outputs": []
    },
    {
      "cell_type": "code",
      "source": [
        "target = 'Legendary'"
      ],
      "metadata": {
        "execution": {
          "iopub.status.busy": "2022-08-16T17:56:07.523814Z",
          "iopub.execute_input": "2022-08-16T17:56:07.524168Z",
          "iopub.status.idle": "2022-08-16T17:56:07.535292Z",
          "shell.execute_reply.started": "2022-08-16T17:56:07.524134Z",
          "shell.execute_reply": "2022-08-16T17:56:07.534067Z"
        },
        "trusted": true,
        "id": "eG9tbbUaaeQy"
      },
      "execution_count": null,
      "outputs": []
    },
    {
      "cell_type": "code",
      "source": [
        "X = original_data[features]\n",
        "print(X.shape)\n",
        "X.head()"
      ],
      "metadata": {
        "execution": {
          "iopub.status.busy": "2022-08-16T17:56:07.536734Z",
          "iopub.execute_input": "2022-08-16T17:56:07.537504Z",
          "iopub.status.idle": "2022-08-16T17:56:07.562636Z",
          "shell.execute_reply.started": "2022-08-16T17:56:07.537466Z",
          "shell.execute_reply": "2022-08-16T17:56:07.561483Z"
        },
        "trusted": true,
        "id": "-NNm0ZVHaeQy"
      },
      "execution_count": null,
      "outputs": []
    },
    {
      "cell_type": "code",
      "source": [
        "y = original_data[target]\n",
        "print(y.shape)\n",
        "y.head()"
      ],
      "metadata": {
        "execution": {
          "iopub.status.busy": "2022-08-16T17:59:43.369122Z",
          "iopub.execute_input": "2022-08-16T17:59:43.369589Z",
          "iopub.status.idle": "2022-08-16T17:59:43.378571Z",
          "shell.execute_reply.started": "2022-08-16T17:59:43.369551Z",
          "shell.execute_reply": "2022-08-16T17:59:43.377572Z"
        },
        "trusted": true,
        "id": "HvMY0-aXaeQy"
      },
      "execution_count": null,
      "outputs": []
    },
    {
      "cell_type": "code",
      "source": [
        "from sklearn.model_selection import train_test_split\n",
        "\n",
        "X_train, X_test, y_train, y_test = train_test_split(X, y, test_size=0.2, random_state=15)\n",
        "\n",
        "print(X_train.shape, y_train.shape)\n",
        "print(X_test.shape, y_test.shape)"
      ],
      "metadata": {
        "execution": {
          "iopub.status.busy": "2022-08-16T17:59:48.689274Z",
          "iopub.execute_input": "2022-08-16T17:59:48.689673Z",
          "iopub.status.idle": "2022-08-16T17:59:48.83864Z",
          "shell.execute_reply.started": "2022-08-16T17:59:48.689641Z",
          "shell.execute_reply": "2022-08-16T17:59:48.837323Z"
        },
        "trusted": true,
        "id": "exgYMx6iaeQz"
      },
      "execution_count": null,
      "outputs": []
    },
    {
      "cell_type": "markdown",
      "source": [
        "## 의사결정트리 모델 학습"
      ],
      "metadata": {
        "id": "TnyTpSuRaeQz"
      }
    },
    {
      "cell_type": "markdown",
      "source": [
        "random_state는 모델의 랜덤성을 제어합니다.\n",
        "\n",
        "어떤 값을 넣어도 상관없지만, 실험 단계에서는 랜덤성에 의해 학습 결과가 차이나는 것을 방지하기 위해 하나의 값으로 고정해서 실험하는 것이 좋습니다."
      ],
      "metadata": {
        "id": "j_8sQq-BaeQz"
      }
    },
    {
      "cell_type": "code",
      "source": [
        "from sklearn.tree import DecisionTreeClassifier"
      ],
      "metadata": {
        "execution": {
          "iopub.status.busy": "2022-08-16T18:00:05.139313Z",
          "iopub.execute_input": "2022-08-16T18:00:05.139721Z",
          "iopub.status.idle": "2022-08-16T18:00:05.314023Z",
          "shell.execute_reply.started": "2022-08-16T18:00:05.139687Z",
          "shell.execute_reply": "2022-08-16T18:00:05.312781Z"
        },
        "trusted": true,
        "id": "SwfFyrSGaeQ0"
      },
      "execution_count": null,
      "outputs": []
    },
    {
      "cell_type": "code",
      "source": [
        "model = DecisionTreeClassifier(random_state=25)\n",
        "model"
      ],
      "metadata": {
        "execution": {
          "iopub.status.busy": "2022-08-16T18:00:32.969543Z",
          "iopub.execute_input": "2022-08-16T18:00:32.969998Z",
          "iopub.status.idle": "2022-08-16T18:00:32.980747Z",
          "shell.execute_reply.started": "2022-08-16T18:00:32.96991Z",
          "shell.execute_reply": "2022-08-16T18:00:32.979216Z"
        },
        "trusted": true,
        "id": "oU-j4lPQaeQ0"
      },
      "execution_count": null,
      "outputs": []
    },
    {
      "cell_type": "code",
      "source": [
        "model.fit(X_train, y_train)\n",
        "y_pred = model.predict(X_test)"
      ],
      "metadata": {
        "execution": {
          "iopub.status.busy": "2022-08-16T18:00:33.258388Z",
          "iopub.execute_input": "2022-08-16T18:00:33.259182Z",
          "iopub.status.idle": "2022-08-16T18:00:33.272735Z",
          "shell.execute_reply.started": "2022-08-16T18:00:33.259143Z",
          "shell.execute_reply": "2022-08-16T18:00:33.271311Z"
        },
        "trusted": true,
        "id": "Leyq66rEaeQ1"
      },
      "execution_count": null,
      "outputs": []
    },
    {
      "cell_type": "markdown",
      "source": [
        "### Confusion Matrix (혼동행렬)\n",
        "* TN (True Negative) : 옳게 판단한 Negative, 즉 일반 포켓몬을 일반 포켓몬이라고 알맞게 판단한 경우입니다.\n",
        "* FP (False Positive) : 틀리게 판단한 Positive, 즉 일반 포켓몬을 전설의 포켓몬이라고 잘못 판단한 경우입니다.\n",
        "* FN (False Negative) : 틀리게 판단한 Negative, 즉 전설의 포켓몬을 일반 포켓몬이라고 잘못 판단한 경우입니다.\n",
        "* TP (True Positive) : 옳게 판단한 Positive, 즉 전설의 포켓몬을 전설의 포켓몬이라고 알맞게 판단한 경우입니다."
      ],
      "metadata": {
        "id": "Wj6tz23UaeQ1"
      }
    },
    {
      "cell_type": "code",
      "source": [
        "# Confusion Matrix\n",
        "from sklearn.metrics import confusion_matrix\n",
        "confusion_matrix(y_test, y_pred)"
      ],
      "metadata": {
        "execution": {
          "iopub.status.busy": "2022-08-16T18:00:43.743208Z",
          "iopub.execute_input": "2022-08-16T18:00:43.743679Z",
          "iopub.status.idle": "2022-08-16T18:00:43.754909Z",
          "shell.execute_reply.started": "2022-08-16T18:00:43.743645Z",
          "shell.execute_reply": "2022-08-16T18:00:43.753986Z"
        },
        "trusted": true,
        "id": "xDbgCfmkaeQ1"
      },
      "execution_count": null,
      "outputs": []
    },
    {
      "cell_type": "markdown",
      "source": [
        "### 정확도 (Accuracy)의 허점\n",
        "전체 800마리 중, 단 65마리만 전설의 포켓몬이고, 735마리는 일반 포켓몬이었습니다. 이것이 무엇을 뜻하죠?\n",
        "\n",
        "바로, 800마리를 전부 다 일반 포켓몬으로 예측하더라도, 735마리는 일단 맞추고 들어간다는 것을 뜻합니다.\n",
        "\n",
        "즉, 아무런 학습을 안 하고 모든 답을 하나로 찍어도, 735 / 800 * 100 = 92%의 정확도를 달성할 수 있다는 거죠.\n",
        "\n",
        "따라서 이번 데이터셋에서는 정확도로 모델의 성능을 평가하는 것은 거의 의미가 없습니다.\n",
        "\n",
        "따라서 우리는 정확도 외에 다른 척도로 모델의 성능을 평가해 볼 필요가 있습니다."
      ],
      "metadata": {
        "id": "XFlb-uataeQ1"
      }
    },
    {
      "cell_type": "code",
      "source": [
        "from sklearn.metrics import classification_report\n",
        "print(classification_report(y_test, y_pred))\n",
        "# Recall: 0.62"
      ],
      "metadata": {
        "execution": {
          "iopub.status.busy": "2022-08-16T18:01:53.234644Z",
          "iopub.execute_input": "2022-08-16T18:01:53.235155Z",
          "iopub.status.idle": "2022-08-16T18:01:53.249022Z",
          "shell.execute_reply.started": "2022-08-16T18:01:53.235119Z",
          "shell.execute_reply": "2022-08-16T18:01:53.247819Z"
        },
        "trusted": true,
        "id": "lhgMQpCuaeQ1"
      },
      "execution_count": null,
      "outputs": []
    },
    {
      "cell_type": "markdown",
      "source": [
        "## 피쳐 엔지니어링 (Feature Engineering)\n"
      ],
      "metadata": {
        "id": "oH2OrQH7aeQ2"
      }
    },
    {
      "cell_type": "code",
      "source": [
        "print(len(pokemon.columns))\n",
        "print(pokemon.columns)"
      ],
      "metadata": {
        "execution": {
          "iopub.status.busy": "2022-08-16T18:03:33.986867Z",
          "iopub.execute_input": "2022-08-16T18:03:33.987356Z",
          "iopub.status.idle": "2022-08-16T18:03:33.99432Z",
          "shell.execute_reply.started": "2022-08-16T18:03:33.98732Z",
          "shell.execute_reply": "2022-08-16T18:03:33.993258Z"
        },
        "trusted": true,
        "id": "ET9fDxhPaeQ2"
      },
      "execution_count": null,
      "outputs": []
    },
    {
      "cell_type": "markdown",
      "source": [
        "제외할 칼럼 (문자열)\n",
        "* \"#\" : ID에 해당하는 데이터로, index의 의미 외에 특별한 의미가 담긴 특징이 아니기 때문에 제외한다.\n",
        "* \"Name\" : 문자열 데이터로, 전처리를 통해 \"name_count\"와 \"long_name\", 그리고 15개의 토큰 컬럼으로 대체되었다.\n",
        "* \"name_nospace\", \"name_isalpha\" : 전처리를 위해 필요했던 컬럼으로 분류 분석에는 필요하지 않다.\n",
        "* \"Type 1\" & \"Type 2\" : 속성은 원-핫 인코딩으로 처리했다.\n",
        "* \"Legendary\" : 이 컬럼은 target 데이터이므로 모델이 학습하는 \"X\" 데이터에는 넣지 않고, \"y\" 데이터로 사용한다."
      ],
      "metadata": {
        "id": "5PGs4-wTaeQ2"
      }
    },
    {
      "cell_type": "code",
      "source": [
        "features = ['Total', 'HP', 'Attack', 'Defense', 'Sp. Atk', 'Sp. Def', 'Speed', 'Generation',\n",
        "            'name_count', 'long_name', 'Forme', 'Mega', 'Mewtwo', 'Kyurem', 'Deoxys', 'Hoopa',\n",
        "            'Latias', 'Latios', 'Kyogre', 'Groudon', 'Poison', 'Water', 'Steel', 'Grass',\n",
        "            'Bug', 'Normal', 'Fire', 'Fighting', 'Electric', 'Psychic', 'Ghost', 'Ice',\n",
        "            'Rock', 'Dark', 'Flying', 'Ground', 'Dragon', 'Fairy']\n",
        "\n",
        "len(features)"
      ],
      "metadata": {
        "execution": {
          "iopub.status.busy": "2022-08-16T18:03:52.903199Z",
          "iopub.execute_input": "2022-08-16T18:03:52.90367Z",
          "iopub.status.idle": "2022-08-16T18:03:52.914646Z",
          "shell.execute_reply.started": "2022-08-16T18:03:52.903636Z",
          "shell.execute_reply": "2022-08-16T18:03:52.912847Z"
        },
        "trusted": true,
        "id": "Qk48Z9MAaeQ2"
      },
      "execution_count": null,
      "outputs": []
    },
    {
      "cell_type": "code",
      "source": [
        "target = \"Legendary\"\n",
        "target"
      ],
      "metadata": {
        "execution": {
          "iopub.status.busy": "2022-08-16T18:03:58.187907Z",
          "iopub.execute_input": "2022-08-16T18:03:58.188333Z",
          "iopub.status.idle": "2022-08-16T18:03:58.196271Z",
          "shell.execute_reply.started": "2022-08-16T18:03:58.188299Z",
          "shell.execute_reply": "2022-08-16T18:03:58.194677Z"
        },
        "trusted": true,
        "id": "6WkhpD79aeQ2"
      },
      "execution_count": null,
      "outputs": []
    },
    {
      "cell_type": "code",
      "source": [
        "X = pokemon[features]\n",
        "print(X.shape)\n",
        "X.head()"
      ],
      "metadata": {
        "execution": {
          "iopub.status.busy": "2022-08-16T18:04:02.435343Z",
          "iopub.execute_input": "2022-08-16T18:04:02.435847Z",
          "iopub.status.idle": "2022-08-16T18:04:02.468575Z",
          "shell.execute_reply.started": "2022-08-16T18:04:02.435806Z",
          "shell.execute_reply": "2022-08-16T18:04:02.467447Z"
        },
        "trusted": true,
        "id": "FQhzoGlLaeQ2"
      },
      "execution_count": null,
      "outputs": []
    },
    {
      "cell_type": "code",
      "source": [
        "y = pokemon[target]\n",
        "print(y.shape)\n",
        "y.head()"
      ],
      "metadata": {
        "execution": {
          "iopub.status.busy": "2022-08-16T18:04:09.289574Z",
          "iopub.execute_input": "2022-08-16T18:04:09.290066Z",
          "iopub.status.idle": "2022-08-16T18:04:09.303041Z",
          "shell.execute_reply.started": "2022-08-16T18:04:09.290028Z",
          "shell.execute_reply": "2022-08-16T18:04:09.301196Z"
        },
        "trusted": true,
        "id": "5x5FVB2PaeQ3"
      },
      "execution_count": null,
      "outputs": []
    },
    {
      "cell_type": "code",
      "source": [
        "X_train, X_test, y_train, y_test = train_test_split(X, y, test_size=0.2, random_state=15)\n",
        "\n",
        "print(X_train.shape, y_train.shape)\n",
        "print(X_test.shape, y_test.shape)"
      ],
      "metadata": {
        "execution": {
          "iopub.status.busy": "2022-08-16T18:04:12.880598Z",
          "iopub.execute_input": "2022-08-16T18:04:12.881007Z",
          "iopub.status.idle": "2022-08-16T18:04:12.892893Z",
          "shell.execute_reply.started": "2022-08-16T18:04:12.880974Z",
          "shell.execute_reply": "2022-08-16T18:04:12.891476Z"
        },
        "trusted": true,
        "id": "3HNtWkZ7aeQ3"
      },
      "execution_count": null,
      "outputs": []
    },
    {
      "cell_type": "markdown",
      "source": [
        "### 전처리 데이터를 이용한 의사결정트리 모델 재학습"
      ],
      "metadata": {
        "id": "wgiox3CgaeQ3"
      }
    },
    {
      "cell_type": "code",
      "source": [
        "model = DecisionTreeClassifier(random_state=25)\n",
        "model"
      ],
      "metadata": {
        "execution": {
          "iopub.status.busy": "2022-08-16T18:04:57.784348Z",
          "iopub.execute_input": "2022-08-16T18:04:57.784759Z",
          "iopub.status.idle": "2022-08-16T18:04:57.792537Z",
          "shell.execute_reply.started": "2022-08-16T18:04:57.784724Z",
          "shell.execute_reply": "2022-08-16T18:04:57.791048Z"
        },
        "trusted": true,
        "id": "OOLPPXTOaeQ3"
      },
      "execution_count": null,
      "outputs": []
    },
    {
      "cell_type": "code",
      "source": [
        "model.fit(X_train, y_train)\n",
        "y_pred = model.predict(X_test)\n",
        "print('슝=3')"
      ],
      "metadata": {
        "execution": {
          "iopub.status.busy": "2022-08-16T18:05:48.810282Z",
          "iopub.execute_input": "2022-08-16T18:05:48.810952Z",
          "iopub.status.idle": "2022-08-16T18:05:48.831687Z",
          "shell.execute_reply.started": "2022-08-16T18:05:48.810915Z",
          "shell.execute_reply": "2022-08-16T18:05:48.830551Z"
        },
        "trusted": true,
        "id": "Mdvm9EWlaeQ3"
      },
      "execution_count": null,
      "outputs": []
    },
    {
      "cell_type": "code",
      "source": [
        "confusion_matrix(y_test, y_pred)"
      ],
      "metadata": {
        "execution": {
          "iopub.status.busy": "2022-08-16T18:05:53.646855Z",
          "iopub.execute_input": "2022-08-16T18:05:53.647523Z",
          "iopub.status.idle": "2022-08-16T18:05:53.657694Z",
          "shell.execute_reply.started": "2022-08-16T18:05:53.64748Z",
          "shell.execute_reply": "2022-08-16T18:05:53.656077Z"
        },
        "trusted": true,
        "id": "wk3cF67faeQ4"
      },
      "execution_count": null,
      "outputs": []
    },
    {
      "cell_type": "code",
      "source": [
        "print(classification_report(y_test, y_pred))\n",
        "# Recall 0.92"
      ],
      "metadata": {
        "execution": {
          "iopub.status.busy": "2022-08-16T18:05:58.820879Z",
          "iopub.execute_input": "2022-08-16T18:05:58.82131Z",
          "iopub.status.idle": "2022-08-16T18:05:58.833847Z",
          "shell.execute_reply.started": "2022-08-16T18:05:58.821277Z",
          "shell.execute_reply": "2022-08-16T18:05:58.832452Z"
        },
        "trusted": true,
        "id": "Ew19S1YjaeQ4"
      },
      "execution_count": null,
      "outputs": []
    },
    {
      "cell_type": "markdown",
      "source": [
        "1. 포켓몬, 그 데이터는 캐글 웹사이트에서 원하는 데이터를 가져와서 준비하는 것까지 해봤어요.\n",
        "2. 전설의 포켓몬 전체 데이터셋을 밑바닥부터 꼼꼼히 탐색해 봤죠.\n",
        "3. 전설의 포켓몬과 일반 포켓몬, 그 차이는 우리가 원하는 target의 두드러지는 특징을 특히 자세하게 살펴보았습니다.\n",
        "4. 모델에 넣기 위해 데이터 전처리에서는 데이터를 머신러닝 모델에 넣기 적합한 형태로 전처리해 주었습니다.\n",
        "5.베이스라인 모델을 학습시켜보고, 우리가 처리한 데이터로 성능을 올리는 것까지 해 보았습니다.\n",
        "\n",
        "--> 데이터셋을 처음부터 끝까지 전부 뜯어보는 EDA 과정과 이를 활용해 모델의 성능을 올려보는 것까지 모두 완벽하기에는 아직 많이 부족하고 개념도 정리가 안된 상태에서 하려니 머리가 터질 거 같았네요. 쉽다고 말했는데 초능이는 너무 힘드네요."
      ],
      "metadata": {
        "id": "rA3xAnccaeQ5"
      }
    },
    {
      "cell_type": "code",
      "source": [],
      "metadata": {
        "id": "Jg_yjCffaeQ5"
      },
      "execution_count": null,
      "outputs": []
    }
  ]
}