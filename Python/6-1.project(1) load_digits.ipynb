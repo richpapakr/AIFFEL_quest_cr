{
 "cells": [
  {
   "cell_type": "code",
   "execution_count": 5,
   "id": "b72ad1d4",
   "metadata": {},
   "outputs": [
    {
     "name": "stdout",
     "output_type": "stream",
     "text": [
      "1.0\n"
     ]
    }
   ],
   "source": [
    "import sklearn\n",
    "\n",
    "print(sklearn.__version__)"
   ]
  },
  {
   "cell_type": "code",
   "execution_count": 4,
   "id": "6c3d2141",
   "metadata": {},
   "outputs": [],
   "source": [
    "from sklearn.datasets import load_digits\n",
    "from sklearn.model_selection import train_test_split\n",
    "from sklearn.metrics import classification_report"
   ]
  },
  {
   "cell_type": "code",
   "execution_count": 9,
   "id": "c0d04fc5",
   "metadata": {},
   "outputs": [
    {
     "name": "stdout",
     "output_type": "stream",
     "text": [
      "Data Shape: (1797, 64)\n",
      "Target Names: [0 1 2 3 4 5 6 7 8 9]\n",
      "\n",
      "Accuracy: 0.9722222222222222\n",
      "\n",
      "Classification Report:\n",
      "               precision    recall  f1-score   support\n",
      "\n",
      "           0       1.00      0.97      0.98        33\n",
      "           1       0.97      1.00      0.98        28\n",
      "           2       1.00      1.00      1.00        33\n",
      "           3       1.00      0.94      0.97        34\n",
      "           4       0.98      1.00      0.99        46\n",
      "           5       0.94      0.96      0.95        47\n",
      "           6       0.97      0.97      0.97        35\n",
      "           7       0.97      0.97      0.97        34\n",
      "           8       0.97      0.97      0.97        30\n",
      "           9       0.95      0.95      0.95        40\n",
      "\n",
      "    accuracy                           0.97       360\n",
      "   macro avg       0.97      0.97      0.97       360\n",
      "weighted avg       0.97      0.97      0.97       360\n",
      "\n"
     ]
    }
   ],
   "source": [
    "# 필요한 라이브러리 임포트\n",
    "from sklearn.datasets import load_digits\n",
    "from sklearn.model_selection import train_test_split\n",
    "from sklearn.ensemble import RandomForestClassifier\n",
    "from sklearn.metrics import accuracy_score, classification_report\n",
    "\n",
    "# 1. 데이터 로드\n",
    "digits = load_digits()\n",
    "\n",
    "# 2. 데이터 구성 확인\n",
    "print(\"Data Shape:\", digits.data.shape)  # (1797, 64)\n",
    "print(\"Target Names:\", digits.target_names)  # [0, 1, 2, ..., 9]\n",
    "\n",
    "# 3. Feature와 Label 할당\n",
    "X = digits.data  # 이미지 데이터 (8x8 픽셀, 펼쳐진 상태)\n",
    "y = digits.target  # 숫자 라벨\n",
    "\n",
    "# 4. 데이터 분할 (훈련 데이터와 테스트 데이터)\n",
    "X_train, X_test, y_train, y_test = train_test_split(X, y, test_size=0.2, random_state=42)\n",
    "\n",
    "# 5. 모델 학습 (랜덤 포레스트 사용)\n",
    "model = RandomForestClassifier(random_state=42)\n",
    "model.fit(X_train, y_train)\n",
    "\n",
    "# 6. 예측 및 평가\n",
    "y_pred = model.predict(X_test)\n",
    "\n",
    "print(\"\\nAccuracy:\", accuracy_score(y_test, y_pred))\n",
    "print(\"\\nClassification Report:\\n\", classification_report(y_test, y_pred))\n"
   ]
  },
  {
   "cell_type": "markdown",
   "id": "92985a22",
   "metadata": {},
   "source": [
    "코드 설명\n",
    "\n",
    "데이터 로드 및 확인:\n",
    "\n",
    "load_digits 데이터를 로드하고, 데이터의 크기와 라벨(숫자 0~9)을 확인합니다.\n",
    "각 샘플은 8x8 픽셀(64개의 피처)로 구성된 이미지 데이터입니다.\n",
    "\n",
    "데이터 준비:\n",
    "\n",
    "X에 이미지를 나타내는 피처 데이터를, y에 숫자 라벨을 할당합니다.\n",
    "데이터셋을 훈련 세트(80%)와 테스트 세트(20%)로 분할합니다.\n",
    "\n",
    "모델 학습:\n",
    "\n",
    "랜덤 포레스트 모델을 사용하여 데이터를 학습합니다.\n",
    "\n",
    "모델 평가:\n",
    "\n",
    "테스트 데이터를 예측하고, 정확도(Accuracy)와 분류 보고서(Classification Report)를 출력합니다."
   ]
  }
 ],
 "metadata": {
  "kernelspec": {
   "display_name": "Python 3 (ipykernel)",
   "language": "python",
   "name": "python3"
  },
  "language_info": {
   "codemirror_mode": {
    "name": "ipython",
    "version": 3
   },
   "file_extension": ".py",
   "mimetype": "text/x-python",
   "name": "python",
   "nbconvert_exporter": "python",
   "pygments_lexer": "ipython3",
   "version": "3.9.7"
  }
 },
 "nbformat": 4,
 "nbformat_minor": 5
}
