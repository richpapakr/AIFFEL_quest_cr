{
  "nbformat": 4,
  "nbformat_minor": 0,
  "metadata": {
    "colab": {
      "provenance": [],
      "authorship_tag": "ABX9TyOwp7fiHOt16yTxzQ3F0jzg",
      "include_colab_link": true
    },
    "kernelspec": {
      "name": "python3",
      "display_name": "Python 3"
    },
    "language_info": {
      "name": "python"
    }
  },
  "cells": [
    {
      "cell_type": "markdown",
      "metadata": {
        "id": "view-in-github",
        "colab_type": "text"
      },
      "source": [
        "<a href=\"https://colab.research.google.com/github/richpapakr/AIFFEL_quest_cr/blob/master/Python/Poject250116.ipynb\" target=\"_parent\"><img src=\"https://colab.research.google.com/assets/colab-badge.svg\" alt=\"Open In Colab\"/></a>"
      ]
    },
    {
      "cell_type": "code",
      "execution_count": null,
      "metadata": {
        "id": "-jzm6tN2JI-g"
      },
      "outputs": [],
      "source": [
        "# 프로젝트 제출 (성기수)\n",
        "import datetime\n",
        "\n",
        "# 예시 4: 데코레이터로 주문표 양식 출력하기\n",
        "def table_decorator(func):\n",
        "    def wrapper(*args, **kwargs):\n",
        "        print('⟝' + '-' * 30 + '⟞')\n",
        "        func(*args, **kwargs)\n",
        "        for i in range(5):\n",
        "            print('|' + ' ' * 31 + '|')\n",
        "        print('⟝' + '-' * 30 + '⟞')\n",
        "    return wrapper\n",
        "\n",
        "class Kiosk:\n",
        "    def __init__(self):\n",
        "        # 예시 1: 메뉴와 가격을 다차원 리스트로 변경\n",
        "        self.menu = [\n",
        "            ['HOT americano', 2000],\n",
        "            ['ICE latte', 3000],\n",
        "            ['ICE mocha', 3000],\n",
        "            ['ICE choco_latte', 3000]\n",
        "        ]\n",
        "        self.order_menu = []  # 주문된 음료 목록\n",
        "        self.order_price = []  # 주문된 음료의 가격 목록\n",
        "        self.total_price = 0  # 전체 금액 초기화\n",
        "        self.order_time = None  # 주문 시간\n",
        "\n",
        "    # 예시 2: enumerate() 함수 활용해서 메뉴 출력\n",
        "    def menu_print(self):\n",
        "        print(\"메뉴:\")\n",
        "        for idx, (name, price) in enumerate(self.menu, 1):\n",
        "            print(f\"{idx}. {name} : {price} 원\")\n",
        "\n",
        "    # 예시 3: datetime 모듈로 주문 일시 추가\n",
        "    def menu_select(self):\n",
        "        while True:\n",
        "            try:\n",
        "                n = int(input(\"음료 번호를 입력하세요: \"))\n",
        "                if 1 <= n <= len(self.menu):\n",
        "                    self.order_menu.append(self.menu[n-1][0])  # 메뉴 이름 추가\n",
        "                    self.order_price.append(self.menu[n-1][1])  # 가격 추가\n",
        "                    self.total_price += self.menu[n-1][1]  # 총 금액에 추가\n",
        "                    print(f\"{self.menu[n-1][0]} 주문이 추가되었습니다.\")\n",
        "                    self.order_time = datetime.datetime.now().strftime('%Y-%m-%d %H:%M:%S')  # 주문 시간 기록\n",
        "                    break\n",
        "                else:\n",
        "                    print(\"잘못된 메뉴 번호입니다. 다시 시도해주세요.\")\n",
        "            except ValueError:\n",
        "                print(\"올바른 번호를 입력하세요.\")\n",
        "\n",
        "    # 예시 4: 데코레이터로 주문표 양식 출력\n",
        "    @table_decorator\n",
        "    def table(self):\n",
        "        # 주문 상품명과 가격 출력\n",
        "        for i in range(len(self.order_menu)):\n",
        "            print(f\"{self.order_menu[i]} : {self.order_price[i]} 원\")\n",
        "        print(f\"합계 금액 : {self.total_price} 원\")\n",
        "        print(f\"주문 시각: {self.order_time}\")\n",
        "\n",
        "    # 결제 메서드\n",
        "    def pay(self):\n",
        "        print(f\"총 금액은 {self.total_price} 원입니다.\")\n",
        "        while True:\n",
        "            method = input(\"결제 수단을 선택하세요 (1: 현금, 2: 카드): \").strip().lower()\n",
        "            if method == '1' or method == 'cash':\n",
        "                print(\"직원을 호출하겠습니다.\")\n",
        "                break\n",
        "            elif method == '2' or method == 'card':\n",
        "                print(\"IC칩 방향에 맞게 카드를 꽂아주세요.\")\n",
        "                break\n",
        "            else:\n",
        "                print(\"다시 결제를 시도해 주세요.\")\n",
        "\n",
        "# 사용 예시\n",
        "kiosk = Kiosk()\n",
        "\n",
        "# 메뉴 출력\n",
        "kiosk.menu_print()\n",
        "\n",
        "# 음료 선택\n",
        "kiosk.menu_select()\n",
        "\n",
        "# 주문서 출력 (데코레이터로 양식 출력)\n",
        "kiosk.table()\n",
        "\n",
        "# 결제\n",
        "kiosk.pay()\n"
      ]
    }
  ]
}