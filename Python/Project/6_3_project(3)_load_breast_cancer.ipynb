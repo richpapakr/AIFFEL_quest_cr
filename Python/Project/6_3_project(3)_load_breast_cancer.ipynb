{
  "cells": [
    {
      "cell_type": "markdown",
      "metadata": {
        "id": "view-in-github",
        "colab_type": "text"
      },
      "source": [
        "<a href=\"https://colab.research.google.com/github/richpapakr/AIFFEL_quest_cr/blob/master/Python/Project/6_3_project(3)_load_breast_cancer.ipynb\" target=\"_parent\"><img src=\"https://colab.research.google.com/assets/colab-badge.svg\" alt=\"Open In Colab\"/></a>"
      ]
    },
    {
      "cell_type": "code",
      "execution_count": null,
      "id": "c2c1f370",
      "metadata": {
        "id": "c2c1f370",
        "outputId": "52ca9790-0970-4810-9043-c07830a32ad0"
      },
      "outputs": [
        {
          "name": "stdout",
          "output_type": "stream",
          "text": [
            "1.0\n"
          ]
        }
      ],
      "source": [
        "import sklearn\n",
        "\n",
        "print(sklearn.__version__)"
      ]
    },
    {
      "cell_type": "code",
      "execution_count": null,
      "id": "a8160bf7",
      "metadata": {
        "id": "a8160bf7"
      },
      "outputs": [],
      "source": [
        "# 6-3. 프로젝트 (3) load_breast_cancer : 유방암 여부를 진단해 봅시다\n",
        "\n",
        "#(1) 필요한 모듈 import하기\n",
        "from sklearn.datasets import load_breast_cancer\n",
        "from sklearn.model_selection import train_test_split\n",
        "from sklearn.metrics import classification_report"
      ]
    },
    {
      "cell_type": "code",
      "execution_count": null,
      "id": "52776860",
      "metadata": {
        "id": "52776860",
        "outputId": "89ad6e57-dd9c-4b54-fabc-3de024d8d465"
      },
      "outputs": [
        {
          "name": "stdout",
          "output_type": "stream",
          "text": [
            "\n",
            "Accuracy: 0.9649122807017544\n",
            "\n",
            "Classification Report:\n",
            "               precision    recall  f1-score   support\n",
            "\n",
            "   malignant       0.98      0.93      0.95        43\n",
            "      benign       0.96      0.99      0.97        71\n",
            "\n",
            "    accuracy                           0.96       114\n",
            "   macro avg       0.97      0.96      0.96       114\n",
            "weighted avg       0.97      0.96      0.96       114\n",
            "\n"
          ]
        }
      ],
      "source": [
        "# 필요한 라이브러리 임포트\n",
        "from sklearn.datasets import load_breast_cancer\n",
        "from sklearn.model_selection import train_test_split\n",
        "from sklearn.ensemble import RandomForestClassifier\n",
        "from sklearn.metrics import accuracy_score, classification_report\n",
        "\n",
        "# 1. 데이터 로드\n",
        "cancer = load_breast_cancer()\n",
        "\n",
        "# 2. Feature와 Label 할당\n",
        "X = cancer.data  # 유방암 특성 데이터 (30개의 피처)\n",
        "y = cancer.target  # 라벨 (0: 악성, 1: 양성)\n",
        "\n",
        "# 3. 데이터 분할 (훈련 데이터와 테스트 데이터)\n",
        "X_train, X_test, y_train, y_test = train_test_split(X, y, test_size=0.2, random_state=42)\n",
        "\n",
        "# 4. 모델 학습 (랜덤 포레스트 사용)\n",
        "model = RandomForestClassifier(random_state=42)\n",
        "model.fit(X_train, y_train)\n",
        "\n",
        "# 5. 예측 및 평가\n",
        "y_pred = model.predict(X_test)\n",
        "\n",
        "# 결과 출력\n",
        "print(\"\\nAccuracy:\", accuracy_score(y_test, y_pred))\n",
        "print(\"\\nClassification Report:\\n\", classification_report(y_test, y_pred, target_names=cancer.target_names))\n"
      ]
    },
    {
      "cell_type": "markdown",
      "id": "0d0a6726",
      "metadata": {
        "id": "0d0a6726"
      },
      "source": [
        "코드 설명\n",
        "\n",
        "데이터 로드 및 확인:\n",
        "\n",
        "load_breast_cancer 데이터를 로드하여 피처(X)와 라벨(y)로 분리합니다.\n",
        "데이터는 30개의 피처(유방암 종양의 크기, 모양 등)와 2개의 클래스(악성, 양성)로 구성되어 있습니다.\n",
        "\n",
        "데이터 분할:\n",
        "\n",
        "데이터를 훈련 세트(80%)와 테스트 세트(20%)로 나눕니다.\n",
        "\n",
        "모델 학습:\n",
        "\n",
        "랜덤 포레스트 모델을 사용하여 훈련 데이터로 모델을 학습합니다.\n",
        "\n",
        "모델 평가:\n",
        "\n",
        "테스트 데이터에 대한 예측 결과를 출력합니다.\n",
        "정확도와 분류 보고서를 사용하여 모델 성능을 평가합니다."
      ]
    }
  ],
  "metadata": {
    "kernelspec": {
      "display_name": "Python 3 (ipykernel)",
      "language": "python",
      "name": "python3"
    },
    "language_info": {
      "codemirror_mode": {
        "name": "ipython",
        "version": 3
      },
      "file_extension": ".py",
      "mimetype": "text/x-python",
      "name": "python",
      "nbconvert_exporter": "python",
      "pygments_lexer": "ipython3",
      "version": "3.9.7"
    },
    "colab": {
      "provenance": [],
      "include_colab_link": true
    }
  },
  "nbformat": 4,
  "nbformat_minor": 5
}