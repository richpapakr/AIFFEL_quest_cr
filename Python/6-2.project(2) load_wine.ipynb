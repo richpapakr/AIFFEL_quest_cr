{
 "cells": [
  {
   "cell_type": "code",
   "execution_count": 1,
   "id": "6d9df98a",
   "metadata": {},
   "outputs": [
    {
     "name": "stdout",
     "output_type": "stream",
     "text": [
      "1.0\n"
     ]
    }
   ],
   "source": [
    "import sklearn\n",
    "\n",
    "print(sklearn.__version__)"
   ]
  },
  {
   "cell_type": "code",
   "execution_count": 2,
   "id": "8091877b",
   "metadata": {},
   "outputs": [],
   "source": [
    "from sklearn.datasets import load_wine\n",
    "from sklearn.model_selection import train_test_split\n",
    "from sklearn.metrics import classification_report"
   ]
  },
  {
   "cell_type": "code",
   "execution_count": 3,
   "id": "c2c919ed",
   "metadata": {},
   "outputs": [
    {
     "name": "stdout",
     "output_type": "stream",
     "text": [
      "\n",
      "Accuracy: 1.0\n",
      "\n",
      "Classification Report:\n",
      "               precision    recall  f1-score   support\n",
      "\n",
      "     class_0       1.00      1.00      1.00        14\n",
      "     class_1       1.00      1.00      1.00        14\n",
      "     class_2       1.00      1.00      1.00         8\n",
      "\n",
      "    accuracy                           1.00        36\n",
      "   macro avg       1.00      1.00      1.00        36\n",
      "weighted avg       1.00      1.00      1.00        36\n",
      "\n"
     ]
    }
   ],
   "source": [
    "# 필요한 라이브러리 임포트\n",
    "from sklearn.datasets import load_wine\n",
    "from sklearn.model_selection import train_test_split\n",
    "from sklearn.ensemble import RandomForestClassifier\n",
    "from sklearn.metrics import accuracy_score, classification_report\n",
    "\n",
    "# 1. 데이터 로드\n",
    "wine = load_wine()\n",
    "\n",
    "# 2. Feature와 Label 할당\n",
    "X = wine.data  # 와인의 화학적 특성 데이터 (13개의 피처)\n",
    "y = wine.target  # 와인의 품종 (0, 1, 2)\n",
    "\n",
    "# 3. 데이터 분할 (훈련 데이터와 테스트 데이터)\n",
    "X_train, X_test, y_train, y_test = train_test_split(X, y, test_size=0.2, random_state=42)\n",
    "\n",
    "# 4. 모델 학습 (랜덤 포레스트 사용)\n",
    "model = RandomForestClassifier(random_state=42)\n",
    "model.fit(X_train, y_train)\n",
    "\n",
    "# 5. 예측 및 평가\n",
    "y_pred = model.predict(X_test)\n",
    "\n",
    "# 결과 출력\n",
    "print(\"\\nAccuracy:\", accuracy_score(y_test, y_pred))\n",
    "print(\"\\nClassification Report:\\n\", classification_report(y_test, y_pred, target_names=wine.target_names))\n"
   ]
  },
  {
   "cell_type": "markdown",
   "id": "6ac7f2ce",
   "metadata": {},
   "source": [
    "코드 설명\n",
    "\n",
    "데이터 로드 및 확인:\n",
    "\n",
    "load_wine 데이터를 로드하고, 피처(X)와 라벨(y)를 할당.\n",
    "각 샘플은 13개의 화학적 특성으로 구성되고, 3가지 품종(클래스 0, 1, 2) 중 하나에 속합니다.\n",
    "\n",
    "데이터 준비:\n",
    "\n",
    "데이터를 훈련 세트(80%)와 테스트 세트(20%)로 분할합니다.\n",
    "\n",
    "모델 학습:\n",
    "\n",
    "랜덤 포레스트 모델을 사용하여 학습 데이터를 학습합니다.\n",
    "\n",
    "모델 평가:\n",
    "\n",
    "테스트 데이터를 예측하여 정확도(Accuracy)와 분류 보고서(Classification Report)를 출력합니다."
   ]
  }
 ],
 "metadata": {
  "kernelspec": {
   "display_name": "Python 3 (ipykernel)",
   "language": "python",
   "name": "python3"
  },
  "language_info": {
   "codemirror_mode": {
    "name": "ipython",
    "version": 3
   },
   "file_extension": ".py",
   "mimetype": "text/x-python",
   "name": "python",
   "nbconvert_exporter": "python",
   "pygments_lexer": "ipython3",
   "version": "3.9.7"
  }
 },
 "nbformat": 4,
 "nbformat_minor": 5
}
